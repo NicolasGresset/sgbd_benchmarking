{
 "cells": [
  {
   "cell_type": "markdown",
   "id": "d318b787",
   "metadata": {},
   "source": [
    "# Example Jupyter Notebook\n",
    "\n",
    "This notebook is a test to verify that the environment is set up and running correctly."
   ]
  },
  {
   "cell_type": "code",
   "execution_count": 1,
   "id": "d14dc973",
   "metadata": {},
   "outputs": [
    {
     "ename": "ModuleNotFoundError",
     "evalue": "No module named 'couchbase_core'",
     "output_type": "error",
     "traceback": [
      "\u001b[0;31m---------------------------------------------------------------------------\u001b[0m",
      "\u001b[0;31mModuleNotFoundError\u001b[0m                       Traceback (most recent call last)",
      "Cell \u001b[0;32mIn[1], line 3\u001b[0m\n\u001b[1;32m      1\u001b[0m \u001b[38;5;28;01mimport\u001b[39;00m \u001b[38;5;21;01mcsv\u001b[39;00m\n\u001b[1;32m      2\u001b[0m \u001b[38;5;28;01mfrom\u001b[39;00m \u001b[38;5;21;01mcouchbase\u001b[39;00m\u001b[38;5;21;01m.\u001b[39;00m\u001b[38;5;21;01mcluster\u001b[39;00m \u001b[38;5;28;01mimport\u001b[39;00m Cluster, ClusterOptions\n\u001b[0;32m----> 3\u001b[0m \u001b[38;5;28;01mfrom\u001b[39;00m \u001b[38;5;21;01mcouchbase_core\u001b[39;00m\u001b[38;5;21;01m.\u001b[39;00m\u001b[38;5;21;01mcluster\u001b[39;00m \u001b[38;5;28;01mimport\u001b[39;00m PasswordAuthenticator\n\u001b[1;32m      4\u001b[0m \u001b[38;5;28;01mfrom\u001b[39;00m \u001b[38;5;21;01mcouchbase\u001b[39;00m\u001b[38;5;21;01m.\u001b[39;00m\u001b[38;5;21;01mbucket\u001b[39;00m \u001b[38;5;28;01mimport\u001b[39;00m Bucket\n\u001b[1;32m      5\u001b[0m \u001b[38;5;28;01mfrom\u001b[39;00m \u001b[38;5;21;01mcouchbase\u001b[39;00m\u001b[38;5;21;01m.\u001b[39;00m\u001b[38;5;21;01mexceptions\u001b[39;00m \u001b[38;5;28;01mimport\u001b[39;00m CouchbaseError\n",
      "\u001b[0;31mModuleNotFoundError\u001b[0m: No module named 'couchbase_core'"
     ]
    }
   ],
   "source": [
    "import csv\n",
    "from couchbase.cluster import Cluster, ClusterOptions\n",
    "#from couchbase_core.cluster import PasswordAuthenticator\n",
    "from couchbase.bucket import Bucket\n",
    "from couchbase.exceptions import CouchbaseError\n",
    "import pandas as pd\n",
    "\n",
    "# Configuration Couchbase\n",
    "COUCHBASE_CLUSTER = \"couchbase://localhost\"  # Remplacez par l'adresse de votre cluster\n",
    "USERNAME = \"admin\"  # Remplacez par votre identifiant\n",
    "PASSWORD = \"tprli\"  # Remplacez par votre mot de passe\n",
    "BUCKET_NAME = \"my_bucket\"  # Remplacez par le nom de votre bucket\n",
    "\n",
    "def connect_to_couchbase(cluster_address, username, password, bucket_name):\n",
    "    \"\"\"Connecte au cluster Couchbase et retourne un objet bucket.\"\"\"\n",
    "    try:\n",
    "        cluster = Cluster(cluster_address, ClusterOptions(PasswordAuthenticator(username, password)))\n",
    "        bucket = cluster.bucket(bucket_name)\n",
    "        print(f\"Connecté au bucket {bucket_name}\")\n",
    "        return bucket\n",
    "    except CouchbaseError as e:\n",
    "        print(f\"Erreur lors de la connexion : {e}\")\n",
    "        raise\n",
    "\n",
    "def load_csv_to_couchbase(bucket, csv_file):\n",
    "    \"\"\"Charge un fichier CSV dans un bucket Couchbase.\"\"\"\n",
    "    try:\n",
    "        data = pd.read_csv(csv_file)  # Chargement du CSV avec pandas\n",
    "        for index, row in data.iterrows():\n",
    "            document_key = f\"doc_{index}\"  # Générer une clé unique pour chaque document\n",
    "            document_data = row.to_dict()  # Convertir la ligne en dictionnaire\n",
    "            bucket.default_collection().upsert(document_key, document_data)\n",
    "            print(f\"Document inséré : {document_key}\")\n",
    "    except Exception as e:\n",
    "        print(f\"Erreur lors de l'insertion : {e}\")\n",
    "        raise\n",
    "\n",
    "\n",
    "CSV_FILE = \"data/trees_strasbourg.csv\"\n",
    "\n",
    "# Connexion au bucket Couchbase\n",
    "bucket = connect_to_couchbase(COUCHBASE_CLUSTER, USERNAME, PASSWORD, BUCKET_NAME)\n",
    "\n",
    "# Charger le fichier CSV dans le bucket\n",
    "load_csv_to_couchbase(bucket, CSV_FILE)\n"
   ]
  }
 ],
 "metadata": {
  "kernelspec": {
   "display_name": "Python 3 (ipykernel)",
   "language": "python",
   "name": "python3"
  },
  "language_info": {
   "codemirror_mode": {
    "name": "ipython",
    "version": 3
   },
   "file_extension": ".py",
   "mimetype": "text/x-python",
   "name": "python",
   "nbconvert_exporter": "python",
   "pygments_lexer": "ipython3",
   "version": "3.10.16"
  }
 },
 "nbformat": 4,
 "nbformat_minor": 5
}
