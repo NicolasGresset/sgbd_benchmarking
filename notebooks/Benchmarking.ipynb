{
 "cells": [
  {
   "cell_type": "markdown",
   "id": "fc9a9acb-eb84-4eb4-bd53-a5b3727e6cb2",
   "metadata": {},
   "source": [
    "# SDB Benchmark"
   ]
  },
  {
   "cell_type": "markdown",
   "id": "a3cf435d",
   "metadata": {},
   "source": [
    "## Choices\n",
    "\n",
    "We took several parameters into account in order to provide unbiased and reproductible results. We present them in the next section.\n",
    "\n",
    "### Time measurement\n",
    "\n",
    "In order to measure accurately the time taken for a database CRUD operation to complete, we need to measure the duration between the moment the command is called and the moment it returns (both postgres and cassandra python API functions returns synchronuously). In addition, we measure time by several (100) batches of 100 measurements. This allows to plot the distribution of several latencies AND have precise enough measurements. \n",
    "Besides, we use the time.perf_counter function from the time module which has the best accuracy for measuring time in Python.Finally, we also clean the built-in garbage collector of Python before each measurement to ensure consistent behaviour.\n",
    "\n",
    "### Reproducibility\n",
    "\n",
    "Most of the queries we generate are random to limit bias in the analysis : one database system could perform surprisingly well for a specific data. Using random queries reduce such a bias. Therefore, we chose to write our queries once to a file and to perform them by reading directly the file instead of generating news random datas at each runtime execution. This let us make precise commentaries on the actual data we have observed which is the very same data you will see being displayed."
   ]
  },
  {
   "cell_type": "markdown",
   "id": "ad6755ea-1fc6-4488-979f-b962c3d891c3",
   "metadata": {},
   "source": [
    "## Initialise cassandra database\n",
    "\n",
    "If the following cells raise a `ConnexionRefuseError`, it may be because of the Cassandra database didn't finished to initialize."
   ]
  },
  {
   "cell_type": "code",
   "execution_count": 1,
   "id": "e1c641e7-dfa0-408d-92fc-947b5cfa7809",
   "metadata": {},
   "outputs": [],
   "source": [
    "import csv, gc, time\n",
    "import numpy as np\n",
    "from matplotlib import pyplot as plt \n",
    "from cassandra.cluster import Cluster\n",
    "from cassandra.query import BatchStatement"
   ]
  },
  {
   "cell_type": "code",
   "execution_count": null,
   "id": "355228ab",
   "metadata": {},
   "outputs": [],
   "source": [
    "time.sleep(120)\n",
    "\n",
    "cluster = Cluster(['cassandra'])\n",
    "session = cluster.connect()\n",
    "\n",
    "# Create a keyspace and table\n",
    "session.execute(\"\"\"CREATE KEYSPACE IF NOT EXISTS benchmarking WITH REPLICATION = \n",
    "{ 'class' : 'SimpleStrategy', 'replication_factor' : '1' }\"\"\")\n",
    "session.execute(\"\"\"CREATE TABLE IF NOT EXISTS benchmarking.bitcoin_addresses (BITCOIN_ADDRESS text, ACCOUNT text, \n",
    "IP_ADDRESS text, COUNTY text, COUNTRY_CODE text, DATABASE_COLUMN_TYPE text, PRIMARY KEY \n",
    "(BITCOIN_ADDRESS))\"\"\")\n"
   ]
  },
  {
   "cell_type": "markdown",
   "id": "3e07cd67",
   "metadata": {},
   "source": [
    "## Import Data into cassandra"
   ]
  },
  {
   "cell_type": "code",
   "execution_count": 30,
   "id": "22922ec7",
   "metadata": {},
   "outputs": [
    {
     "ename": "NameError",
     "evalue": "name 'index' is not defined",
     "output_type": "error",
     "traceback": [
      "\u001b[0;31m---------------------------------------------------------------------------\u001b[0m",
      "\u001b[0;31mNameError\u001b[0m                                 Traceback (most recent call last)",
      "Cell \u001b[0;32mIn[30], line 31\u001b[0m\n\u001b[1;32m     29\u001b[0m end_time \u001b[38;5;241m=\u001b[39m time\u001b[38;5;241m.\u001b[39mperf_counter()\n\u001b[1;32m     30\u001b[0m cassandra_times_select[sample] \u001b[38;5;241m=\u001b[39m (end_time \u001b[38;5;241m-\u001b[39m start_time)\n\u001b[0;32m---> 31\u001b[0m \u001b[38;5;28mprint\u001b[39m(\u001b[43mindex\u001b[49m, \u001b[38;5;124m\"\u001b[39m\u001b[38;5;124m%\u001b[39m\u001b[38;5;124m\"\u001b[39m)\n",
      "\u001b[0;31mNameError\u001b[0m: name 'index' is not defined"
     ]
    }
   ],
   "source": [
    "# select data\n",
    "with open(\"/home/data.csv\", 'r') as file:\n",
    "    reader = csv.DictReader(file)\n",
    "    insert_query = session.prepare(\"\"\"\n",
    "INSERT INTO benchmarking.bitcoin_addresses (BITCOIN_ADDRESS, ACCOUNT, IP_ADDRESS, COUNTY, COUNTRY_CODE, DATABASE_COLUMN_TYPE)\n",
    "VALUES (?, ?, ?, ?, ?, ?)\n",
    "\"\"\")\n",
    "    cassandra_times_select = np.empty(100)\n",
    "\n",
    "    for sample in range(100):\n",
    "        batch = BatchStatement()\n",
    "\n",
    "        for i in range(1000):\n",
    "            row = next(reader)\n",
    "            session.execute(insert_query, (\n",
    "                row['BITCOIN_ADDRESS'],\n",
    "                row['ACCOUNT'],\n",
    "                row['IP_ADDRESS'],\n",
    "                row['COUNTY'],\n",
    "                row['COUNTRY_CODE'],\n",
    "                row['DATABASE_COLUMN_TYPE']\n",
    "            ))\n",
    "\n",
    "        gc.collect()\n",
    "        start_time = time.perf_counter()\n",
    "\n",
    "        session.execute(batch)\n",
    "\n",
    "        end_time = time.perf_counter()\n",
    "        cassandra_times_select[sample] = (end_time - start_time)\n",
    "        print(sample, \"%\")"
   ]
  },
  {
   "cell_type": "code",
   "execution_count": 5,
   "id": "2c5b2a8f",
   "metadata": {},
   "outputs": [
    {
     "name": "stdout",
     "output_type": "stream",
     "text": [
      "[0.00826216 0.00084092 0.00091342 0.00096672 0.00085855 0.00090597\n",
      " 0.00079691 0.00088064 0.00093385 0.00069267 0.00083517 0.00075241\n",
      " 0.00072699 0.00078355 0.00088071 0.00082278 0.00074727 0.00081608\n",
      " 0.0006559  0.00077624 0.00068392 0.00077639 0.00084307 0.00063537\n",
      " 0.0007822  0.00063279 0.0008979  0.00060906 0.0006926  0.00067178\n",
      " 0.00075303 0.0010344  0.00089882 0.00084411 0.00071976 0.00070926\n",
      " 0.00074292 0.00081963 0.00066054 0.0007715  0.00070603 0.00095303\n",
      " 0.00067872 0.00073511 0.0009116  0.00066034 0.00101135 0.00099491\n",
      " 0.00094351 0.00088461 0.00074854 0.00082292 0.00089938 0.00070638\n",
      " 0.00070436 0.00078569 0.00096054 0.00065126 0.00073232 0.00095284\n",
      " 0.0007176  0.00065005 0.00073685 0.00068723 0.00067001 0.00080882\n",
      " 0.00081742 0.00082804 0.00067594 0.00063795 0.000825   0.00064259\n",
      " 0.00072144 0.00075434 0.000738   0.00075503 0.00067236 0.00074252\n",
      " 0.0008146  0.00078556 0.00071944 0.00074717 0.00074225 0.00064771\n",
      " 0.00078497 0.00072831 0.0007206  0.00069935 0.00062558 0.00088286\n",
      " 0.00079751 0.00307703 0.0008227  0.00070672 0.00083462 0.00082464\n",
      " 0.00069773 0.00069163 0.00065323 0.00086873]\n"
     ]
    }
   ],
   "source": [
    "print(cassandra_times_select)"
   ]
  },
  {
   "cell_type": "code",
   "execution_count": 6,
   "id": "919b20c8",
   "metadata": {},
   "outputs": [
    {
     "name": "stdout",
     "output_type": "stream",
     "text": [
      "hello world\n"
     ]
    }
   ],
   "source": [
    "print(\"hello world\")"
   ]
  },
  {
   "cell_type": "markdown",
   "id": "5d7f767c",
   "metadata": {},
   "source": [
    "## Initialise PostrgreSQL database"
   ]
  },
  {
   "cell_type": "code",
   "execution_count": 5,
   "id": "cd180c25",
   "metadata": {},
   "outputs": [],
   "source": [
    "# Connect to the database and set up the table\n",
    "select psycopg2, random, string\n",
    "from psycopg2 select sql\n",
    "\n",
    "connection = psycopg2.connect(\n",
    "    dbname=\"postgresDB\", \n",
    "    user=\"user\", \n",
    "    password=\"tprli\", \n",
    "    host=\"postgres\",  # Or use your database host if it's not local\n",
    "    port=\"5432\"  # Default PostgreSQL port\n",
    ")\n",
    "connection.autocommit = True\n",
    "cursor = connection.cursor()\n",
    "\n",
    "\n",
    "cursor.execute(\"DROP TABLE IF EXISTS bitcoin_addresses;\")\n",
    "\n",
    "# Step 2: Create the table in PostgreSQL if it doesn't exist\n",
    "create_table_query = \"\"\"\n",
    "CREATE TABLE bitcoin_addresses (\n",
    "    bitcoin_address VARCHAR(34) NOT NULL, -- Bitcoin addresses are usually 26-35 characters\n",
    "    account VARCHAR(20),                 -- Account numbers, max length derived from the example\n",
    "    ip_address VARCHAR(15),              -- IPv4 addresses, formatted as strings\n",
    "    county VARCHAR(50),                  -- County names, variable length\n",
    "    country_code CHAR(2),                -- Two-letter country codes\n",
    "    database_column_type VARCHAR(50),   -- Describes column type as text (e.g., mediumint, float),\n",
    "    PRIMARY KEY (bitcoin_address)\n",
    ");\n",
    "\"\"\"\n",
    "cursor.execute(create_table_query)"
   ]
  },
  {
   "cell_type": "markdown",
   "id": "12183e33",
   "metadata": {},
   "source": [
    "## import data into PostgreSQL"
   ]
  },
  {
   "cell_type": "code",
   "execution_count": null,
   "id": "5c99cc60",
   "metadata": {},
   "outputs": [],
   "source": [
    "postgres_times_import = np.empty(100)\n",
    "with open('/home/data.csv', 'r') as file:\n",
    "    reader = csv.reader(file)\n",
    "    next(reader)  # Skip the header row\n",
    "\n",
    "\n",
    "    insert_query = \"\"\"\n",
    "        INSERT INTO bitcoin_addresses (bitcoin_address, account, ip_address, county, country_code, database_column_type) VALUES (%s, %s, %s, %s, %s, %s)\n",
    "        \"\"\"\n",
    "\n",
    "\n",
    "    for i in range(100):\n",
    "        gc.collect()\n",
    "        start_time = time.perf_counter()\n",
    "        for j in range(1000):\n",
    "            cursor.execute(insert_query, next(reader))\n",
    "        end_time = time.perf_counter()\n",
    "        postgres_times_import[i] = (end_time - start_time)\n",
    "\n",
    "print(\"data succesfully imported\")"
   ]
  },
  {
   "cell_type": "code",
   "execution_count": null,
   "id": "c5da1444",
   "metadata": {},
   "outputs": [],
   "source": [
    "print(postgres_times_import)"
   ]
  },
  {
   "cell_type": "code",
   "execution_count": 19,
   "id": "be28ab87",
   "metadata": {},
   "outputs": [
    {
     "data": {
      "image/png": "[encoded data removed]",
      "text/plain": [
       "<Figure size 1000x600 with 1 Axes>"
      ]
     },
     "metadata": {},
     "output_type": "display_data"
    }
   ],
   "source": [
    "import numpy as np\n",
    "import matplotlib.pyplot as plt\n",
    "\n",
    "min_bin = min(cassandra_times_import.min(), postgres_times_import.min())\n",
    "max_bin = max(cassandra_times_import.max(), postgres_times_import.max())\n",
    "bins = np.linspace(min_bin, max_bin, 20)  # 20 bins entre les valeurs min et max\n",
    "\n",
    "# Création de l'histogramme avec des bornes communes\n",
    "plt.figure(figsize=(10, 6))\n",
    "plt.hist(cassandra_times_import, bins=bins, alpha=0.7, label='Import time with cassandra', color='blue')\n",
    "plt.hist(postgres_times_import, bins=bins, alpha=0.7, label='Import time with postgresql', color='orange')\n",
    "\n",
    "# Ajout des légendes et des titres\n",
    "plt.title('Histogram of import times with 2 databases systems', fontsize=16)\n",
    "plt.xlabel('SGBD Systems', fontsize=14)\n",
    "plt.ylabel('Frequency', fontsize=14)\n",
    "plt.legend(fontsize=12)\n",
    "plt.grid(alpha=0.3)\n",
    "\n",
    "# Affichage\n",
    "plt.show()"
   ]
  },
  {
   "cell_type": "markdown",
   "id": "0b0f89c1",
   "metadata": {},
   "source": [
    "Those 2 distributions seems to be unimodal so we are going to represent density probability instead of histograms to ensure better analysis."
   ]
  },
  {
   "cell_type": "code",
   "execution_count": 29,
   "id": "baad22a5",
   "metadata": {},
   "outputs": [
    {
     "ename": "NameError",
     "evalue": "name 'cassandra_times_import' is not defined",
     "output_type": "error",
     "traceback": [
      "\u001b[0;31m---------------------------------------------------------------------------\u001b[0m",
      "\u001b[0;31mNameError\u001b[0m                                 Traceback (most recent call last)",
      "Cell \u001b[0;32mIn[29], line 4\u001b[0m\n\u001b[1;32m      1\u001b[0m \u001b[38;5;28;01mfrom\u001b[39;00m \u001b[38;5;21;01mscipy\u001b[39;00m\u001b[38;5;21;01m.\u001b[39;00m\u001b[38;5;21;01mstats\u001b[39;00m \u001b[38;5;28;01mimport\u001b[39;00m gaussian_kde\n\u001b[1;32m      3\u001b[0m \u001b[38;5;66;03m# Estimation de la densité pour chaque ensemble de données\u001b[39;00m\n\u001b[0;32m----> 4\u001b[0m x \u001b[38;5;241m=\u001b[39m np\u001b[38;5;241m.\u001b[39mlinspace(\u001b[38;5;28mmin\u001b[39m(\u001b[43mcassandra_times_import\u001b[49m\u001b[38;5;241m.\u001b[39mmin(), postgres_times_import\u001b[38;5;241m.\u001b[39mmin()), \n\u001b[1;32m      5\u001b[0m                 \u001b[38;5;28mmax\u001b[39m(cassandra_times_import\u001b[38;5;241m.\u001b[39mmax(), postgres_times_import\u001b[38;5;241m.\u001b[39mmax()), \u001b[38;5;241m500\u001b[39m)\n\u001b[1;32m      6\u001b[0m density1 \u001b[38;5;241m=\u001b[39m gaussian_kde(cassandra_times_import)\n\u001b[1;32m      7\u001b[0m density2 \u001b[38;5;241m=\u001b[39m gaussian_kde(postgres_times_import)\n",
      "\u001b[0;31mNameError\u001b[0m: name 'cassandra_times_import' is not defined"
     ]
    }
   ],
   "source": [
    "from scipy.stats import gaussian_kde\n",
    "\n",
    "# Estimation de la densité pour chaque ensemble de données\n",
    "x = np.linspace(min(cassandra_times_import.min(), postgres_times_import.min()), \n",
    "                max(cassandra_times_import.max(), postgres_times_import.max()), 500)\n",
    "density1 = gaussian_kde(cassandra_times_import)\n",
    "density2 = gaussian_kde(postgres_times_import)\n",
    "\n",
    "# Tracer les enveloppes des courbes de densité\n",
    "plt.figure(figsize=(10, 6))\n",
    "plt.plot(x, density1(x), label='Cassandra', color='blue', linewidth=2)\n",
    "plt.plot(x, density2(x), label='PostgreSQL', color='orange', linewidth=2)\n",
    "\n",
    "# Ajout des légendes et des titres\n",
    "plt.title('Comparison of estimated densities', fontsize=16)\n",
    "plt.xlabel('Duration', fontsize=14)\n",
    "plt.ylabel('Estimated density', fontsize=14)\n",
    "plt.legend(fontsize=12)\n",
    "plt.grid(alpha=0.3)\n",
    "\n",
    "# Affichage\n",
    "plt.show()"
   ]
  },
  {
   "cell_type": "markdown",
   "id": "adfb664d",
   "metadata": {},
   "source": [
    "## Requests Generation\n",
    "\n",
    "Generation of randomized queries"
   ]
  },
  {
   "cell_type": "code",
   "execution_count": 25,
   "id": "8dd1eb85",
   "metadata": {},
   "outputs": [],
   "source": [
    "import random\n",
    "# Generate random requests\n",
    "simulated_values = {\n",
    "    'BITCOIN_ADDRESS': lambda: f\"'{''.join(random.choices('ABCDEFGHJKLMNPQRSTUVWXYZ123456789', k=32))}'\",\n",
    "    'ACCOUNT': lambda: f\"'{random.randint(10000000, 99999999)}'\",\n",
    "    'IP_ADDRESS': lambda: f\"'{random.randint(1, 255)}.{random.randint(0, 255)}.{random.randint(0, 255)}.{random.randint(1, 255)}'\",\n",
    "    'COUNTY': lambda: f\"'{random.choice(['Buckinghamshire', 'Avon', 'Cambridgeshire', 'Bedfordshire', 'Borders'])}'\",\n",
    "    'COUNTRY_CODE': lambda: f\"'{random.choice('ABCDEFGHJKLMNPQRSTUVWXYZ')}{random.choice('ABCDEFGHJKLMNPQRSTUVWXYZ')}'\",\n",
    "    'DATABASE_COLUMN_TYPE': lambda: f\"'{random.choice(['float', 'point', 'int', 'serial', 'varchar', 'blob', 'timestamp'])}'\"\n",
    "}\n",
    "def generate_random_select_primary_key(table_name, primary_key, set_of_primary_key_values):\n",
    "    primary_key_value = random.choice(set_of_primary_key_values)\n",
    "\n",
    "    select_query = f\"SELECT * FROM {table_name} WHERE {primary_key} = '{primary_key_value}'\"\n",
    "    return select_query\n",
    "\n",
    "def generate_random_select_conditions(tables_name, column_names):\n",
    "    column = random.choice(column_names)\n",
    "\n",
    "    value = simulated_values[column]()  # Générer une valeur simulée pour la colonne\n",
    "    where_clause = f\"WHERE {column} = {value}\"\n",
    "\n",
    "    select_queries = {}\n",
    "    for table in tables_name:\n",
    "        select_queries[table] = f\"SELECT {column} FROM {table} {where_clause}\"\n",
    "    return select_queries\n",
    "\n",
    "def generate_random_update_query(table_name, column_names, primary_key, set_of_primary_key_values):\n",
    "    num_updates = random.randint(1,3)\n",
    "    columns_to_update = random.sample(column_names, num_updates)\n",
    "    update_values = [f\"{col} = {simulated_values[col]()}\" for col in columns_to_update]\n",
    "\n",
    "    primary_key_value = random.choice(set_of_primary_key_values)\n",
    "\n",
    "    update_query = f\"UPDATE {table_name} SET {', '.join(update_values)} WHERE {primary_key} = '{primary_key_value}'\"\n",
    "    return update_query\n",
    "\n",
    "def generate_random_delete_query(table_name, primary_key, set_of_primary_key_values):\n",
    "    primary_key_value = random.choice(set_of_primary_key_values)\n",
    "\n",
    "    delete_query = f\"DELETE FROM {table_name} WHERE {primary_key} = '{primary_key_value}'\"\n",
    "    return delete_query\n",
    "\n",
    "table = \"bitcoin_addresses\"\n",
    "table_indexed = \"bitcoin_addresses_indexed\"\n",
    "table_not_indexed = \"bitcoin_addresses_not_indexed\"\n",
    "conditions_column = ['COUNTY', 'COUNTRY_CODE','DATABASE_COLUMN_TYPE']\n",
    "update_column = ['ACCOUNT', 'IP_ADDRESS', 'COUNTY', 'COUNTRY_CODE', 'DATABASE_COLUMN_TYPE']\n",
    "primary_key = 'BITCOIN_ADDRESS'\n",
    "set_of_key = []\n",
    "rows = session.execute(\"SELECT BITCOIN_ADDRESS FROM benchmarking.bitcoin_addresses\")\n",
    "for a in rows:\n",
    "    set_of_key.append(a[0])\n",
    "\n",
    "# Generate Select queries to match primary key\n",
    "with open(\"select_primary_key.sql\", \"w\") as f:\n",
    "    for i in range(10000):\n",
    "        f.write(generate_random_select_primary_key(table, primary_key, set_of_key))\n",
    "        f.write(\"\\n\")\n",
    "    f.close()\n",
    "    \n",
    "# Generate Select with conditions queries\n",
    "with  open(\"select_conditions_not_indexed.sql\", \"w\") as f, open(\"select_conditions_indexed_0.sql\", \"w\") as f_index_table:\n",
    "    for i in range(100):\n",
    "        queries = generate_random_select_conditions([table_not_indexed, table_indexed], conditions_column)\n",
    "        f.write(queries[table_not_indexed])\n",
    "        f.write(\"\\n\")\n",
    "        f_index_table.write(queries[table_indexed])\n",
    "        f_index_table.write(\"\\n\")\n",
    "    f.close()\n",
    "\n",
    "# Generate Update queries\n",
    "with open(\"update.sql\", \"w\") as f:\n",
    "    for i in range(10000):\n",
    "        f.write(generate_random_update_query(table, update_column, primary_key, set_of_key))\n",
    "        f.write(\"\\n\")\n",
    "    f.close()\n",
    "\n",
    "# Generate Delete queries\n",
    "with open(\"delete.sql\", \"w\") as f:\n",
    "    for i in range(10000):\n",
    "        f.write(generate_random_delete_query(table, primary_key, set_of_key))\n",
    "        f.write(\"\\n\")\n",
    "    f.close()"
   ]
  },
  {
   "cell_type": "markdown",
   "id": "9cbd16a0",
   "metadata": {},
   "source": [
    "## Queries Benchmarking"
   ]
  },
  {
   "cell_type": "markdown",
   "id": "24bbf227",
   "metadata": {},
   "source": [
    "### Select\n",
    "\n",
    "#### Cassandra"
   ]
  },
  {
   "cell_type": "code",
   "execution_count": 3,
   "id": "aed75b61",
   "metadata": {},
   "outputs": [
    {
     "name": "stdout",
     "output_type": "stream",
     "text": [
      "[0.43874113 0.37989223 0.33858067 0.29878068 0.27673291 0.24575746\n",
      " 0.292858   0.30266506 0.2323254  0.23325105 0.24408097 0.24500588\n",
      " 0.20215337 0.19970992 0.20391004 0.20292758 0.22810172 0.27385431\n",
      " 0.2069418  0.2909687  0.22890486 0.22963674 0.21844871 0.24148413\n",
      " 0.25541651 0.2528514  0.20961406 0.19951056 0.20267317 0.35755599\n",
      " 0.25382356 0.20386967 0.21156321 0.27448104 0.19859918 0.19719873\n",
      " 0.26954562 0.23030601 0.25107259 0.26552258 0.26017314 0.33925846\n",
      " 0.36031712 0.35853156 0.37397215 0.342017   0.3238001  0.21860206\n",
      " 0.18610526 0.32732968 0.22669328 0.20042109 0.18086852 0.23190277\n",
      " 0.2895016  0.25182971 0.21926486 0.19046205 0.26356155 0.22101157\n",
      " 0.19185475 0.18469695 0.18265054 0.21011393 0.18724921 0.18059618\n",
      " 0.24628831 0.27947003 0.18864014 0.1823335  0.18163694 0.20803976\n",
      " 0.16941817 0.17492761 0.16192578 0.16260677 0.16149426 0.16851392\n",
      " 0.16070112 0.17248387 0.16839155 0.16352602 0.15934213 0.17065651\n",
      " 0.15939998 0.16530205 0.15406211 0.16854222 0.14773054 0.16183555\n",
      " 0.16658056 0.17310587 0.16200506 0.16709242 0.23132195 0.17413282\n",
      " 0.20698308 0.1588709  0.15347681 0.15320889]\n"
     ]
    }
   ],
   "source": [
    "# Benchmark SELECT\n",
    "session.set_keyspace(\"benchmarking\")\n",
    "\n",
    "select_path = \"select_primary_key_0.sql\"\n",
    "with open(select_path, \"r\") as file:\n",
    "    lines = file.readlines()\n",
    "    n_iter = int(len(lines)/100)\n",
    "    cassandra_times_select = np.empty(n_iter)\n",
    "    \n",
    "    for i in range(n_iter):\n",
    "        gc.collect()\n",
    "        start_time = time.perf_counter()\n",
    "\n",
    "        for j in range(100):\n",
    "            session.execute(lines[i*100 + j])\n",
    "\n",
    "        end_time = time.perf_counter()\n",
    "        cassandra_times_select[i] = (end_time - start_time)\n",
    "\n",
    "print(cassandra_times_select)"
   ]
  },
  {
   "cell_type": "markdown",
   "id": "99bd2ed0",
   "metadata": {},
   "source": [
    "#### PostgreSQL"
   ]
  },
  {
   "cell_type": "code",
   "execution_count": 4,
   "id": "966e0224",
   "metadata": {},
   "outputs": [
    {
     "ename": "NameError",
     "evalue": "name 'cursor' is not defined",
     "output_type": "error",
     "traceback": [
      "\u001b[0;31m---------------------------------------------------------------------------\u001b[0m",
      "\u001b[0;31mNameError\u001b[0m                                 Traceback (most recent call last)",
      "Cell \u001b[0;32mIn[4], line 12\u001b[0m\n\u001b[1;32m      9\u001b[0m start_time \u001b[38;5;241m=\u001b[39m time\u001b[38;5;241m.\u001b[39mperf_counter()\n\u001b[1;32m     11\u001b[0m \u001b[38;5;28;01mfor\u001b[39;00m j \u001b[38;5;129;01min\u001b[39;00m \u001b[38;5;28mrange\u001b[39m(\u001b[38;5;241m100\u001b[39m):\n\u001b[0;32m---> 12\u001b[0m     \u001b[43mcursor\u001b[49m\u001b[38;5;241m.\u001b[39mexecute(lines[i\u001b[38;5;241m*\u001b[39m\u001b[38;5;241m100\u001b[39m \u001b[38;5;241m+\u001b[39m j])\n\u001b[1;32m     14\u001b[0m end_time \u001b[38;5;241m=\u001b[39m time\u001b[38;5;241m.\u001b[39mperf_counter()\n\u001b[1;32m     15\u001b[0m postgres_times_select[i] \u001b[38;5;241m=\u001b[39m (end_time \u001b[38;5;241m-\u001b[39m start_time)\n",
      "\u001b[0;31mNameError\u001b[0m: name 'cursor' is not defined"
     ]
    }
   ],
   "source": [
    "select_path = \"select_primary_key_0.sql\"\n",
    "with open(select_path, \"r\") as file:\n",
    "    lines = file.readlines()\n",
    "    n_iter = int(len(lines)/100)\n",
    "    postgres_times_select = np.empty(n_iter)\n",
    "    \n",
    "    for i in range(n_iter):\n",
    "        gc.collect()\n",
    "        start_time = time.perf_counter()\n",
    "\n",
    "        for j in range(100):\n",
    "            cursor.execute(lines[i*100 + j])\n",
    "\n",
    "        end_time = time.perf_counter()\n",
    "        postgres_times_select[i] = (end_time - start_time)\n",
    "print(postgres_times_select)"
   ]
  },
  {
   "cell_type": "code",
   "execution_count": 12,
   "id": "f58901b6",
   "metadata": {},
   "outputs": [
    {
     "data": {
      "image/png": "[encoded data removed]",
      "text/plain": [
       "<Figure size 1000x600 with 1 Axes>"
      ]
     },
     "metadata": {},
     "output_type": "display_data"
    }
   ],
   "source": [
    "min_bin = min(cassandra_times_select.min(), postgres_times_select.min())\n",
    "max_bin = max(cassandra_times_select.max(), postgres_times_select.max())\n",
    "bins = np.linspace(min_bin, max_bin, 200)  # 20 bins entre les valeurs min et max\n",
    "\n",
    "# Création de l'histogramme avec des bornes communes\n",
    "plt.figure(figsize=(10, 6))\n",
    "plt.hist(cassandra_times_select, bins=bins, alpha=0.7, label='Cassandra', color='blue')\n",
    "plt.hist(postgres_times_select, bins=bins, alpha=0.7, label='PostgreSQL', color='orange')\n",
    "\n",
    "# Ajout des légendes et des titres\n",
    "plt.title('Comparison of select queries', fontsize=16)\n",
    "plt.xlabel('SGBD system', fontsize=14)\n",
    "plt.ylabel('Frequency', fontsize=14)\n",
    "plt.legend(fontsize=12)\n",
    "plt.grid(alpha=0.3)\n",
    "\n",
    "# Affichage\n",
    "plt.show()"
   ]
  },
  {
   "cell_type": "code",
   "execution_count": 28,
   "id": "9e2a1043",
   "metadata": {},
   "outputs": [
    {
     "data": {
      "image/png": "[encoded data removed]",
      "text/plain": [
       "<Figure size 1000x600 with 1 Axes>"
      ]
     },
     "metadata": {},
     "output_type": "display_data"
    }
   ],
   "source": [
    "# Estimation de la densité pour chaque ensemble de données\n",
    "x = np.linspace(min(cassandra_times_select.min(), postgres_times_select.min()), \n",
    "                max(cassandra_times_select.max(), postgres_times_select.max()), 500)\n",
    "density1 = gaussian_kde(cassandra_times_select)\n",
    "density2 = gaussian_kde(postgres_times_select)\n",
    "\n",
    "# Tracer les enveloppes des courbes de densité\n",
    "plt.figure(figsize=(10, 6))\n",
    "plt.plot(x, density1(x), label='Cassandra', color='blue', linewidth=2)\n",
    "plt.plot(x, density2(x), label='PostgreSQL', color='orange', linewidth=2)\n",
    "\n",
    "# Ajout des légendes et des titres\n",
    "plt.title('Comparison of estimated densities', fontsize=16)\n",
    "plt.xlabel('Duration', fontsize=14)\n",
    "plt.ylabel('Estimated density', fontsize=14)\n",
    "plt.legend(fontsize=12)\n",
    "plt.grid(alpha=0.3)\n",
    "\n",
    "# Affichage\n",
    "plt.show()"
   ]
  },
  {
   "cell_type": "markdown",
   "id": "da410d99",
   "metadata": {},
   "source": [
    "### Update\n",
    "\n",
    "#### Cassandra"
   ]
  },
  {
   "cell_type": "code",
   "execution_count": 18,
   "id": "5be92487",
   "metadata": {},
   "outputs": [
    {
     "name": "stdout",
     "output_type": "stream",
     "text": [
      "[0.1528518  0.12179237 0.09728375 0.09642145 0.08562969 0.11967154\n",
      " 0.09890707 0.14090823 0.13668616 0.09968327 0.08544607 0.09665613\n",
      " 0.08854604 0.09632246 0.08602215 0.08244692 0.08200137 0.11256595\n",
      " 0.11288886 0.10817997 0.0886429  0.08349675 0.08252943 0.10321282\n",
      " 0.1167101  0.11190381 0.09707286 0.0925597  0.11152413 0.09083733\n",
      " 0.0849627  0.08384367 0.09678718 0.08205345 0.0920829  0.08776466\n",
      " 0.1011633  0.09704174 0.09260566 0.08220665 0.08584081 0.0861512\n",
      " 0.10287659 0.09641914 0.1022315  0.09460719 0.09881301 0.08735144\n",
      " 0.08808432 0.09564592 0.09569971 0.09111067 0.086469   0.08443997\n",
      " 0.09350546 0.08292851 0.09325173 0.08349516 0.08959918 0.10427895\n",
      " 0.10852321 0.10646529 0.09132267 0.08196172 0.08271861 0.08791319\n",
      " 0.0879616  0.08846854 0.08317487 0.09409073 0.07998449 0.09016872\n",
      " 0.08722575 0.08742448 0.09131607 0.08393956 0.10621381 0.08851524\n",
      " 0.09594036 0.08159076 0.09037182 0.08382184 0.0827072  0.08727011\n",
      " 0.09311398 0.08525799 0.08945333 0.0866521  0.08458296 0.08235022\n",
      " 0.09023601 0.10302442 0.09099436 0.08406639 0.08656315 0.0950016\n",
      " 0.083717   0.08892336 0.09342303 0.08870117]\n"
     ]
    }
   ],
   "source": [
    "# Benchmark Update\n",
    "session.set_keyspace(\"benchmarking\")\n",
    "\n",
    "select_path = \"update_0.sql\"\n",
    "with open(select_path, \"r\") as file:\n",
    "    lines = file.readlines()\n",
    "    n_iter = int(len(lines)/100)\n",
    "    cassandra_times_update = np.empty(n_iter)\n",
    "    \n",
    "    for i in range(n_iter):\n",
    "        gc.collect()\n",
    "        start_time = time.perf_counter()\n",
    "\n",
    "        for j in range(100):\n",
    "            session.execute(lines[i*100 + j])\n",
    "\n",
    "        end_time = time.perf_counter()\n",
    "        cassandra_times_update[i] = (end_time - start_time)\n",
    "print(cassandra_times_update)"
   ]
  },
  {
   "cell_type": "markdown",
   "id": "e5930ca5",
   "metadata": {},
   "source": [
    "#### PostgreSQL"
   ]
  },
  {
   "cell_type": "code",
   "execution_count": 16,
   "id": "9bee2380",
   "metadata": {},
   "outputs": [
    {
     "name": "stdout",
     "output_type": "stream",
     "text": [
      "[0.29388257 0.29892262 0.32443757 0.3074198  0.34650437 0.31036492\n",
      " 0.28986158 0.29686505 0.28439015 0.28093685 0.28848593 0.31499116\n",
      " 0.27437826 0.28518372 0.26942235 0.2882191  0.29728232 0.2882132\n",
      " 0.28372269 0.30827102 0.29241546 0.30478228 0.29124543 0.29900844\n",
      " 0.32450333 0.28125489 0.32509846 0.28933875 0.28818746 0.31289081\n",
      " 0.29145352 0.3156575  0.33226023 0.29029803 0.30746566 0.33682401\n",
      " 0.30628587 0.29688949 0.28833459 0.30904901 0.32005847 0.30342533\n",
      " 0.31282409 0.30375765 0.29328468 0.30591801 0.30759167 0.3170452\n",
      " 0.28611476 0.28588328 0.29869665 0.35995351 0.3042521  0.29431377\n",
      " 0.32320556 0.30606756 0.28883973 0.30733171 0.28531482 0.32591698\n",
      " 0.29045636 0.29955946 0.292605   0.30148204 0.29919359 0.30929034\n",
      " 0.27847579 0.31997614 0.28189325 0.31604105 0.31350344 0.31494874\n",
      " 0.31628916 0.30306246 0.29197294 0.3036214  0.32436891 0.31090389\n",
      " 0.30104167 0.28192033 0.29616123 0.28355905 0.31709184 0.28268095\n",
      " 0.31309422 0.32166385 0.35387934 0.30670334 0.33210591 0.317862\n",
      " 0.3119117  0.26145366 0.28572943 0.31206533 0.30141643 0.31488758\n",
      " 0.30448503 0.29704582 0.30109578 0.31640557]\n"
     ]
    }
   ],
   "source": [
    "select_path = \"update_0.sql\"\n",
    "with open(select_path, \"r\") as file:\n",
    "    lines = file.readlines()\n",
    "    n_iter = int(len(lines)/100)\n",
    "    postgres_times_update = np.empty(n_iter)\n",
    "    \n",
    "    for i in range(n_iter):\n",
    "        gc.collect()\n",
    "        start_time = time.perf_counter()\n",
    "\n",
    "        for j in range(100):\n",
    "            cursor.execute(lines[i*100 + j])\n",
    "\n",
    "        end_time = time.perf_counter()\n",
    "        postgres_times_update[i] = (end_time - start_time)\n",
    "print(postgres_times_update)"
   ]
  },
  {
   "cell_type": "code",
   "execution_count": 17,
   "id": "6152b466",
   "metadata": {},
   "outputs": [
    {
     "data": {
      "image/png": "[encoded data removed]",
      "text/plain": [
       "<Figure size 1000x600 with 1 Axes>"
      ]
     },
     "metadata": {},
     "output_type": "display_data"
    }
   ],
   "source": [
    "min_bin = min(cassandra_times_update.min(), postgres_times_update.min())\n",
    "max_bin = max(cassandra_times_update.max(), postgres_times_update.max())\n",
    "bins = np.linspace(min_bin, max_bin, 200)  # 20 bins entre les valeurs min et max\n",
    "\n",
    "# Création de l'histogramme avec des bornes communes\n",
    "plt.figure(figsize=(10, 6))\n",
    "plt.hist(cassandra_times_update, bins=bins, alpha=0.7, label='Cassandra', color='blue')\n",
    "plt.hist(postgres_times_update, bins=bins, alpha=0.7, label='PostgreSQL', color='orange')\n",
    "\n",
    "# Ajout des légendes et des titres\n",
    "plt.title('Comparison of update queries', fontsize=16)\n",
    "plt.xlabel('SGBD system', fontsize=14)\n",
    "plt.ylabel('Frequency', fontsize=14)\n",
    "plt.legend(fontsize=12)\n",
    "plt.grid(alpha=0.3)\n",
    "\n",
    "# Affichage\n",
    "plt.show()"
   ]
  },
  {
   "cell_type": "markdown",
   "id": "7ea9df79",
   "metadata": {},
   "source": [
    "### Delete\n",
    "\n",
    "#### Cassandra"
   ]
  },
  {
   "cell_type": "code",
   "execution_count": null,
   "id": "2c5cf3a4",
   "metadata": {},
   "outputs": [],
   "source": [
    "# Benchmark DELETE\n",
    "session.set_keyspace(\"benchmarking\")\n",
    "\n",
    "select_path = \"delete_0.sql\"\n",
    "with open(select_path, \"r\") as file:\n",
    "    lines = file.readlines()\n",
    "    n_iter = int(len(lines)/100)\n",
    "    cassandra_times_delete = np.empty(n_iter)\n",
    "    \n",
    "    for i in range(n_iter):\n",
    "        gc.collect()\n",
    "        start_time = time.perf_counter()\n",
    "\n",
    "        for j in range(100):\n",
    "            session.execute(lines[i*100 + j])\n",
    "\n",
    "        end_time = time.perf_counter()\n",
    "        cassandra_times_delete[i] = (end_time - start_time)\n",
    "print(cassandra_times_delete)"
   ]
  },
  {
   "cell_type": "markdown",
   "id": "31ddf907",
   "metadata": {},
   "source": [
    "#### PostgreSQL"
   ]
  },
  {
   "cell_type": "code",
   "execution_count": null,
   "id": "cd83dc41",
   "metadata": {},
   "outputs": [],
   "source": [
    "# Benchmark DELETE\n",
    "session.set_keyspace(\"benchmarking\")\n",
    "\n",
    "select_path = \"delete_0.sql\"\n",
    "with open(select_path, \"r\") as file:\n",
    "    lines = file.readlines()\n",
    "    n_iter = int(len(lines)/100)\n",
    "    postgres_times_delete = np.empty(n_iter)\n",
    "    \n",
    "    for i in range(n_iter):\n",
    "        gc.collect()\n",
    "        start_time = time.perf_counter()\n",
    "\n",
    "        for j in range(100):\n",
    "            cursor.execute(lines[i*100 + j])\n",
    "\n",
    "        end_time = time.perf_counter()\n",
    "        postgres_times_delete[i] = (end_time - start_time)\n",
    "print(postgres_times_delete)"
   ]
  },
  {
   "cell_type": "code",
   "execution_count": null,
   "id": "820be375",
   "metadata": {},
   "outputs": [],
   "source": [
    "min_bin = min(cassandra_times_delete.min(), postgres_times_delete.min())\n",
    "max_bin = max(cassandra_times_delete.max(), postgres_times_delete.max())\n",
    "bins = np.linspace(min_bin, max_bin, 200)  # 20 bins entre les valeurs min et max\n",
    "\n",
    "# Création de l'histogramme avec des bornes communes\n",
    "plt.figure(figsize=(10, 6))\n",
    "plt.hist(cassandra_times_delete, bins=bins, alpha=0.7, label='Cassandra', color='blue')\n",
    "plt.hist(postgres_times_delete, bins=bins, alpha=0.7, label='PostgreSQL', color='orange')\n",
    "\n",
    "# Ajout des légendes et des titres\n",
    "plt.title('Comparison of delete queries', fontsize=16)\n",
    "plt.xlabel('SGBD system', fontsize=14)\n",
    "plt.ylabel('Frequency', fontsize=14)\n",
    "plt.legend(fontsize=12)\n",
    "plt.grid(alpha=0.3)\n",
    "\n",
    "# Affichage\n",
    "plt.show()"
   ]
  },
  {
   "cell_type": "markdown",
   "id": "dcd119db",
   "metadata": {},
   "source": [
    "## Index utilisation"
   ]
  },
  {
   "cell_type": "markdown",
   "id": "635953fd",
   "metadata": {},
   "source": [
    "Set up new table to benchmark effect of indexing."
   ]
  },
  {
   "cell_type": "code",
   "execution_count": 14,
   "id": "c2f9482c",
   "metadata": {},
   "outputs": [],
   "source": [
    "# Create two tables to compare \n",
    "session.execute(\"\"\"CREATE TABLE IF NOT EXISTS benchmarking.bitcoin_addresses_not_indexed (BITCOIN_ADDRESS text, ACCOUNT text, \n",
    "IP_ADDRESS text, COUNTY text, COUNTRY_CODE text, DATABASE_COLUMN_TYPE text, PRIMARY KEY \n",
    "(BITCOIN_ADDRESS))\"\"\")\n",
    "session.execute(\"\"\"CREATE TABLE IF NOT EXISTS benchmarking.bitcoin_addresses_indexed (BITCOIN_ADDRESS text, ACCOUNT text, \n",
    "IP_ADDRESS text, COUNTY text, COUNTRY_CODE text, DATABASE_COLUMN_TYPE text, PRIMARY KEY \n",
    "(BITCOIN_ADDRESS))\"\"\")\n",
    "\n",
    "# Import data\n",
    "with open(\"/home/data.csv\", 'r') as file:\n",
    "    reader = csv.DictReader(file)\n",
    "    indexed_insert_query = session.prepare(\"\"\"\n",
    "INSERT INTO benchmarking.bitcoin_addresses_not_indexed (BITCOIN_ADDRESS, ACCOUNT, IP_ADDRESS, COUNTY, COUNTRY_CODE, DATABASE_COLUMN_TYPE)\n",
    "VALUES (?, ?, ?, ?, ?, ?)\n",
    "\"\"\")\n",
    "    notindexed_insert_query = session.prepare(\"\"\"\n",
    "INSERT INTO benchmarking.bitcoin_addresses_indexed (BITCOIN_ADDRESS, ACCOUNT, IP_ADDRESS, COUNTY, COUNTRY_CODE, DATABASE_COLUMN_TYPE)\n",
    "VALUES (?, ?, ?, ?, ?, ?)\n",
    "\"\"\")\n",
    "\n",
    "    batch = BatchStatement()\n",
    "\n",
    "    for row in reader:\n",
    "        session.execute(indexed_insert_query, (\n",
    "            row['BITCOIN_ADDRESS'],\n",
    "            row['ACCOUNT'],\n",
    "            row['IP_ADDRESS'],\n",
    "            row['COUNTY'],\n",
    "            row['COUNTRY_CODE'],\n",
    "            row['DATABASE_COLUMN_TYPE']\n",
    "        ))\n",
    "        session.execute(notindexed_insert_query, (\n",
    "            row['BITCOIN_ADDRESS'],\n",
    "            row['ACCOUNT'],\n",
    "            row['IP_ADDRESS'],\n",
    "            row['COUNTY'],\n",
    "            row['COUNTRY_CODE'],\n",
    "            row['DATABASE_COLUMN_TYPE']\n",
    "        ))\n",
    "\n",
    "    session.execute(batch)"
   ]
  },
  {
   "cell_type": "markdown",
   "id": "df4a659e",
   "metadata": {},
   "source": [
    "**Creation of an index**\n",
    "\n",
    "`COUNTY` `COUNTRY_CODE` `DATABASE_COLUMN_TYPE` columns are selected to be indexed because they have a moderate cardinality. The indexing must have a significant effect on queries performances."
   ]
  },
  {
   "cell_type": "code",
   "execution_count": 15,
   "id": "f1cc4f23",
   "metadata": {},
   "outputs": [
    {
     "data": {
      "text/plain": [
       "<cassandra.cluster.ResultSet at 0x786c2f363fa0>"
      ]
     },
     "execution_count": 15,
     "metadata": {},
     "output_type": "execute_result"
    }
   ],
   "source": [
    "\n",
    "# Create index\n",
    "create_index_query_county = \"\"\"CREATE INDEX IF NOT EXISTS countyindex on benchmarking.bitcoin_addresses_indexed (COUNTY)\"\"\"\n",
    "session.execute(create_index_query_county)\n",
    "create_index_query_countrycode = \"\"\"CREATE INDEX IF NOT EXISTS countrycodeindex on benchmarking.bitcoin_addresses_indexed (COUNTRY_CODE)\"\"\"\n",
    "session.execute(create_index_query_countrycode)\n",
    "create_index_query_datacolumntype = \"\"\"CREATE INDEX IF NOT EXISTS datacolumntypeindex on benchmarking.bitcoin_addresses_indexed (DATABASE_COLUMN_TYPE)\"\"\"\n",
    "session.execute(create_index_query_datacolumntype)"
   ]
  },
  {
   "cell_type": "markdown",
   "id": "958063cf",
   "metadata": {},
   "source": [
    "#### Queries with conditions\n",
    "To evaluate the performance of indexing, we perform SELECT queries with where clause on indexed columns."
   ]
  },
  {
   "cell_type": "markdown",
   "id": "fdb42060",
   "metadata": {},
   "source": [
    "**Indexed table**"
   ]
  },
  {
   "cell_type": "code",
   "execution_count": 34,
   "id": "3f4b80fc",
   "metadata": {},
   "outputs": [],
   "source": [
    "# Benchmark indexed table\n",
    "session.set_keyspace(\"benchmarking\")\n",
    "\n",
    "select_path = \"select_conditions_indexed_0.sql\"\n",
    "with open(select_path, \"r\") as file:\n",
    "    lines = file.readlines()\n",
    "    n_iter = len(lines)\n",
    "    cassandra_times_select_indexed = np.empty(n_iter)\n",
    "    \n",
    "    for line in lines:\n",
    "        gc.collect()\n",
    "        start_time = time.perf_counter()\n",
    "\n",
    "        session.execute(line)\n",
    "\n",
    "        end_time = time.perf_counter()\n",
    "        cassandra_times_select_indexed[i] = (end_time - start_time)"
   ]
  },
  {
   "cell_type": "markdown",
   "id": "14a54451",
   "metadata": {},
   "source": [
    "**Not indexed table**"
   ]
  },
  {
   "cell_type": "code",
   "execution_count": null,
   "id": "5eb33aee",
   "metadata": {},
   "outputs": [],
   "source": [
    "# Benchmark not indexed table\n",
    "session.set_keyspace(\"benchmarking\")\n",
    "\n",
    "select_path = \"select_conditions_not_indexed_0.sql\"\n",
    "with open(select_path, \"r\") as file:\n",
    "    lines = file.readlines()\n",
    "    n_iter = len(lines)\n",
    "    cassandra_times_select_not_indexed = np.empty(n_iter)\n",
    "    for i in range(n_iter):\n",
    "        lines[i] = f\"{lines[i][:-1]} ALLOW FILTERING\"\n",
    "    \n",
    "    for line in lines:\n",
    "        gc.collect()\n",
    "        start_time = time.perf_counter()\n",
    "\n",
    "        session.execute(lines[i*100 + j])\n",
    "\n",
    "        end_time = time.perf_counter()\n",
    "        cassandra_times_select_not_indexed[i] = (end_time - start_time)"
   ]
  },
  {
   "cell_type": "markdown",
   "id": "8eec10fd",
   "metadata": {},
   "source": [
    "## Replication performances benchmarking"
   ]
  },
  {
   "cell_type": "markdown",
   "id": "dd288596",
   "metadata": {},
   "source": [
    "**Setup replication**"
   ]
  },
  {
   "cell_type": "code",
   "execution_count": 2,
   "id": "9bf96ae3",
   "metadata": {},
   "outputs": [
    {
     "data": {
      "text/plain": [
       "<cassandra.cluster.ResultSet at 0x7f25962b8f10>"
      ]
     },
     "execution_count": 2,
     "metadata": {},
     "output_type": "execute_result"
    }
   ],
   "source": [
    "cluster_replicate = Cluster(['cassandra-replicat-0'])\n",
    "session_replicate = cluster_replicate.connect()\n",
    "\n",
    "# Create keyspace with replication\n",
    "session_replicate.execute(\"\"\"CREATE KEYSPACE IF NOT EXISTS benchmarking WITH REPLICATION = \n",
    "{ 'class' : 'SimpleStrategy', 'replication_factor' : '3' }\"\"\")\n",
    "\n",
    "# Create table\n",
    "session_replicate.execute(\"\"\"CREATE TABLE IF NOT EXISTS benchmarking.bitcoin_addresses (BITCOIN_ADDRESS text, ACCOUNT text, \n",
    "IP_ADDRESS text, COUNTY text, COUNTRY_CODE text, DATABASE_COLUMN_TYPE text, PRIMARY KEY \n",
    "(BITCOIN_ADDRESS))\"\"\")"
   ]
  },
  {
   "cell_type": "markdown",
   "id": "ab2e2c7a",
   "metadata": {},
   "source": [
    "**Import Data**"
   ]
  },
  {
   "cell_type": "code",
   "execution_count": 3,
   "id": "bd1499ae",
   "metadata": {},
   "outputs": [
    {
     "name": "stdout",
     "output_type": "stream",
     "text": [
      "0 %\n",
      "1 %\n",
      "2 %\n",
      "3 %\n",
      "4 %\n",
      "5 %\n",
      "6 %\n",
      "7 %\n",
      "8 %\n",
      "9 %\n",
      "10 %\n",
      "11 %\n",
      "12 %\n",
      "13 %\n",
      "14 %\n",
      "15 %\n",
      "16 %\n",
      "17 %\n",
      "18 %\n",
      "19 %\n",
      "20 %\n",
      "21 %\n",
      "22 %\n",
      "23 %\n",
      "24 %\n",
      "25 %\n",
      "26 %\n",
      "27 %\n",
      "28 %\n",
      "29 %\n",
      "30 %\n",
      "31 %\n",
      "32 %\n",
      "33 %\n",
      "34 %\n",
      "35 %\n",
      "36 %\n",
      "37 %\n",
      "38 %\n",
      "39 %\n",
      "40 %\n",
      "41 %\n",
      "42 %\n",
      "43 %\n",
      "44 %\n",
      "45 %\n",
      "46 %\n",
      "47 %\n",
      "48 %\n",
      "49 %\n",
      "50 %\n",
      "51 %\n",
      "52 %\n",
      "53 %\n",
      "54 %\n",
      "55 %\n",
      "56 %\n",
      "57 %\n",
      "58 %\n",
      "59 %\n",
      "60 %\n",
      "61 %\n",
      "62 %\n",
      "63 %\n",
      "64 %\n",
      "65 %\n",
      "66 %\n",
      "67 %\n",
      "68 %\n",
      "69 %\n",
      "70 %\n",
      "71 %\n",
      "72 %\n",
      "73 %\n",
      "74 %\n",
      "75 %\n",
      "76 %\n",
      "77 %\n",
      "78 %\n",
      "79 %\n",
      "80 %\n",
      "81 %\n",
      "82 %\n",
      "83 %\n",
      "84 %\n",
      "85 %\n",
      "86 %\n",
      "87 %\n",
      "88 %\n",
      "89 %\n",
      "90 %\n",
      "91 %\n",
      "92 %\n",
      "93 %\n",
      "94 %\n",
      "95 %\n",
      "96 %\n",
      "97 %\n",
      "98 %\n",
      "99 %\n"
     ]
    }
   ],
   "source": [
    "# Import data\n",
    "with open(\"/home/data.csv\", 'r') as file:\n",
    "    reader = csv.DictReader(file)\n",
    "    insert_query = session_replicate.prepare(\"\"\"\n",
    "INSERT INTO benchmarking.bitcoin_addresses (BITCOIN_ADDRESS, ACCOUNT, IP_ADDRESS, COUNTY, COUNTRY_CODE, DATABASE_COLUMN_TYPE)\n",
    "VALUES (?, ?, ?, ?, ?, ?)\n",
    "\"\"\")\n",
    "    cassandra_replication_times_import = np.empty(100)\n",
    "\n",
    "    for sample in range(100):\n",
    "        batch = BatchStatement()\n",
    "\n",
    "        for i in range(1000):\n",
    "            row = next(reader)\n",
    "            session_replicate.execute(insert_query, (\n",
    "                row['BITCOIN_ADDRESS'],\n",
    "                row['ACCOUNT'],\n",
    "                row['IP_ADDRESS'],\n",
    "                row['COUNTY'],\n",
    "                row['COUNTRY_CODE'],\n",
    "                row['DATABASE_COLUMN_TYPE']\n",
    "            ))\n",
    "\n",
    "        gc.collect()\n",
    "        start_time = time.perf_counter()\n",
    "\n",
    "        session_replicate.execute(batch)\n",
    "\n",
    "        end_time = time.perf_counter()\n",
    "        cassandra_replication_times_import[sample] = (end_time - start_time)\n",
    "        print(sample, \"%\")"
   ]
  },
  {
   "cell_type": "markdown",
   "id": "5be592a0",
   "metadata": {},
   "source": [
    "**SELECT**"
   ]
  },
  {
   "cell_type": "code",
   "execution_count": 4,
   "id": "5c7226fc",
   "metadata": {},
   "outputs": [],
   "source": [
    "# Benchmark SELECT\n",
    "session_replicate.set_keyspace(\"benchmarking\")\n",
    "\n",
    "select_path = \"select_primary_key_0.sql\"\n",
    "with open(select_path, \"r\") as file:\n",
    "    lines = file.readlines()\n",
    "    n_iter = int(len(lines)/100)\n",
    "    cassandra_replicate_times_select = np.empty(n_iter)\n",
    "    \n",
    "    for i in range(n_iter):\n",
    "        gc.collect()\n",
    "        start_time = time.perf_counter()\n",
    "\n",
    "        for j in range(100):\n",
    "            session_replicate.execute(lines[i*100 + j])\n",
    "\n",
    "        end_time = time.perf_counter()\n",
    "        cassandra_replicate_times_select[i] = (end_time - start_time)"
   ]
  },
  {
   "cell_type": "markdown",
   "id": "0b8ddd80",
   "metadata": {},
   "source": [
    "**UPDATE**"
   ]
  },
  {
   "cell_type": "code",
   "execution_count": 5,
   "id": "620294d2",
   "metadata": {},
   "outputs": [],
   "source": [
    "# Benchmark DELETE\n",
    "session_replicate.set_keyspace(\"benchmarking\")\n",
    "\n",
    "select_path = \"update_0.sql\"\n",
    "with open(select_path, \"r\") as file:\n",
    "    lines = file.readlines()\n",
    "    n_iter = int(len(lines)/100)\n",
    "    cassandra_replicate_times_update = np.empty(n_iter)\n",
    "    \n",
    "    for i in range(n_iter):\n",
    "        gc.collect()\n",
    "        start_time = time.perf_counter()\n",
    "\n",
    "        for j in range(100):\n",
    "            session_replicate.execute(lines[i*100 + j])\n",
    "\n",
    "        end_time = time.perf_counter()\n",
    "        cassandra_replicate_times_update[i] = (end_time - start_time)"
   ]
  },
  {
   "cell_type": "markdown",
   "id": "f1ca0182",
   "metadata": {},
   "source": [
    "**Delete**"
   ]
  },
  {
   "cell_type": "code",
   "execution_count": 6,
   "id": "97538157",
   "metadata": {},
   "outputs": [],
   "source": [
    "# Benchmark DELETE\n",
    "session_replicate.set_keyspace(\"benchmarking\")\n",
    "\n",
    "select_path = \"delete_0.sql\"\n",
    "with open(select_path, \"r\") as file:\n",
    "    lines = file.readlines()\n",
    "    n_iter = int(len(lines)/100)\n",
    "    cassandra_replicate_times_delete = np.empty(n_iter)\n",
    "    \n",
    "    for i in range(n_iter):\n",
    "        gc.collect()\n",
    "        start_time = time.perf_counter()\n",
    "\n",
    "        for j in range(100):\n",
    "            session_replicate.execute(lines[i*100 + j])\n",
    "\n",
    "        end_time = time.perf_counter()\n",
    "        cassandra_replicate_times_delete[i] = (end_time - start_time)"
   ]
  }
 ],
 "metadata": {
  "kernelspec": {
   "display_name": "Python 3 (ipykernel)",
   "language": "python",
   "name": "python3"
  },
  "language_info": {
   "codemirror_mode": {
    "name": "ipython",
    "version": 3
   },
   "file_extension": ".py",
   "mimetype": "text/x-python",
   "name": "python",
   "nbconvert_exporter": "python",
   "pygments_lexer": "ipython3",
   "version": "3.10.16"
  }
 },
 "nbformat": 4,
 "nbformat_minor": 5
}
