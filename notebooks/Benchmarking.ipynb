{
 "cells": [
  {
   "cell_type": "markdown",
   "id": "fc9a9acb-eb84-4eb4-bd53-a5b3727e6cb2",
   "metadata": {},
   "source": [
    "# SDB Benchmark"
   ]
  },
  {
   "cell_type": "markdown",
   "id": "ad6755ea-1fc6-4488-979f-b962c3d891c3",
   "metadata": {},
   "source": [
    "## Initialise database\n",
    "\n",
    "If the following cells raise a `ConnexionRefuseError`, it may be because of the Cassandra database didn't finished to initialize."
   ]
  },
  {
   "cell_type": "code",
   "execution_count": null,
   "id": "e1c641e7-dfa0-408d-92fc-947b5cfa7809",
   "metadata": {},
   "outputs": [],
   "source": [
    "import csv, gc, time, random\n",
    "from cassandra.cluster import Cluster\n",
    "from cassandra.query import BatchStatement\n",
    "\n",
    "cluster = Cluster(['cassandra'])\n",
    "session = cluster.connect()\n",
    "\n",
    "# Create a keyspace and table\n",
    "session.execute(\"\"\"CREATE KEYSPACE IF NOT EXISTS benchmarking WITH REPLICATION = \n",
    "{ 'class' : 'SimpleStrategy', 'replication_factor' : '1' }\"\"\")\n",
    "session.execute(\"\"\"CREATE TABLE IF NOT EXISTS benchmarking.tables (BITCOIN_ADDRESS text, ACCOUNT text, \n",
    "IP_ADDRESS text, COUNTY text, COUNTRY_CODE text, DATABASE_COLUMN_TYPE text, PRIMARY KEY \n",
    "(ACCOUNT))\"\"\")\n"
   ]
  },
  {
   "cell_type": "markdown",
   "id": "3e07cd67",
   "metadata": {},
   "source": [
    "## Import Data"
   ]
  },
  {
   "cell_type": "code",
   "execution_count": null,
   "id": "22922ec7",
   "metadata": {},
   "outputs": [],
   "source": [
    "# Import data\n",
    "with open(\"/home/data.csv\", 'r') as file:\n",
    "    reader = csv.DictReader(file)\n",
    "    insert_query = session.prepare(\"\"\"\n",
    "INSERT INTO benchmarking.tables (BITCOIN_ADDRESS, ACCOUNT, IP_ADDRESS, COUNTY, COUNTRY_CODE, DATABASE_COLUMN_TYPE)\n",
    "VALUES (?, ?, ?, ?, ?, ?)\n",
    "\"\"\")\n",
    "    cassandra_times_import = []\n",
    "\n",
    "    for sample in range(100):\n",
    "        batch = BatchStatement()\n",
    "\n",
    "        for i in range(1000):\n",
    "            row = next(reader)\n",
    "            session.execute(insert_query, (\n",
    "                row['BITCOIN_ADDRESS'],\n",
    "                row['ACCOUNT'],\n",
    "                row['IP_ADDRESS'],\n",
    "                row['COUNTY'],\n",
    "                row['COUNTRY_CODE'],\n",
    "                row['DATABASE_COLUMN_TYPE']\n",
    "            ))\n",
    "\n",
    "        gc.collect()\n",
    "        start_time = time.perf_counter()\n",
    "\n",
    "        session.execute(batch)\n",
    "\n",
    "        end_time = time.perf_counter()\n",
    "        cassandra_times_import.append(end_time - start_time)"
   ]
  },
  {
   "cell_type": "markdown",
   "id": "adfb664d",
   "metadata": {},
   "source": [
    "## Requests Generation\n",
    "\n",
    "Generation of randomized queries"
   ]
  },
  {
   "cell_type": "code",
   "execution_count": null,
   "id": "8dd1eb85",
   "metadata": {},
   "outputs": [],
   "source": [
    "# Generate random requests\n",
    "simulated_values = {\n",
    "    'BITCOIN_ADDRESS': lambda: f\"'{''.join(random.choices('ABCDEFGHJKLMNPQRSTUVWXYZ123456789', k=32))}'\",\n",
    "    'ACCOUNT': lambda: f\"'{random.randint(10000000, 99999999)}'\",\n",
    "    'IP_ADDRESS': lambda: f\"'{random.randint(1, 255)}.{random.randint(0, 255)}.{random.randint(0, 255)}.{random.randint(1, 255)}'\",\n",
    "    'COUNTY': lambda: f\"'{random.choice(['Buckinghamshire', 'Avon', 'Cambridgeshire', 'Bedfordshire', 'Borders'])}'\",\n",
    "    'COUNTRY_CODE': lambda: f\"'{random.choice('ABCDEFGHJKLMNPQRSTUVWXYZ')}{random.choice('ABCDEFGHJKLMNPQRSTUVWXYZ')}'\",\n",
    "    'DATABASE_COLUMN_TYPE': lambda: f\"'{random.choice(['float', 'point', 'int', 'serial', 'varchar', 'blob', 'timestamp'])}'\"\n",
    "}\n",
    "def generate_random_select(table, column_names, withlike=False, ):\n",
    "    num_columns = random.randint(1, len(column_names))\n",
    "    selected_columns = random.sample(column_names, num_columns)\n",
    "\n",
    "    # num_conditions = random.randint(0,3)\n",
    "    # conditions = []\n",
    "    # for _ in range(num_conditions):\n",
    "    #     column = random.choice(column_names)\n",
    "    #     if withlike :\n",
    "    #         operator = random.choice(['=', '!=', 'LIKE'])\n",
    "    #     else :\n",
    "    #         operator = random.choice(['=', '!='])\n",
    "    #     value = simulated_values[column]()  # Générer une valeur simulée pour la colonne\n",
    "    #     if operator == 'LIKE' and column != 'BITCOIN_ADDRESS':  # LIKE uniquement pour des types texte\n",
    "    #         value = value.strip(\"'\")\n",
    "    #         value = f\"'%{value}%'\"\n",
    "    #     conditions.append(f\"{column} {operator} {value}\")\n",
    "\n",
    "    # if num_conditions :\n",
    "    #     where_clause = f\"WHERE {' AND '.join(conditions)}\"\n",
    "    # elif:\n",
    "    #     where_clause = \"\"\n",
    "    where_clause = \"\"\n",
    "\n",
    "    select_query = f\"SELECT {', '.join(selected_columns)} FROM {table} {where_clause}\"\n",
    "    return select_query\n",
    "\n",
    "def generate_random_update_query(table_name, column_names, primary_key, set_of_primary_key_values):\n",
    "    num_updates = random.randint(1,3)\n",
    "    columns_to_update = random.sample(column_names, num_updates)\n",
    "    update_values = [f\"{col} = {simulated_values[col]()}\" for col in columns_to_update]\n",
    "\n",
    "    primary_key_value = random.choice(set_of_primary_key_values)\n",
    "\n",
    "    update_query = f\"UPDATE {table_name} SET {', '.join(update_values)} WHERE {primary_key} = '{primary_key_value}'\"\n",
    "    return update_query\n",
    "\n",
    "def generate_random_delete_query(table_name, primary_key, set_of_primary_key_values):\n",
    "    primary_key_value = random.choice(set_of_primary_key_values)\n",
    "\n",
    "    # Construct the UPDATE query\n",
    "    delete_query = f\"DELETE FROM {table_name} WHERE {primary_key} = '{primary_key_value}'\"\n",
    "    return delete_query\n",
    "    \n",
    "print(\"OK\")"
   ]
  },
  {
   "cell_type": "markdown",
   "id": "9cbd16a0",
   "metadata": {},
   "source": [
    "## Queries Benchmarking"
   ]
  },
  {
   "cell_type": "markdown",
   "id": "24bbf227",
   "metadata": {},
   "source": [
    "### Select"
   ]
  },
  {
   "cell_type": "code",
   "execution_count": 7,
   "id": "aed75b61",
   "metadata": {},
   "outputs": [],
   "source": [
    "column_names = ['BITCOIN_ADDRESS', 'ACCOUNT', 'IP_ADDRESS', 'COUNTY', 'COUNTRY_CODE', 'DATABASE_COLUMN_TYPE']\n",
    "\n",
    "select_queries = []\n",
    "for _ in range(100):\n",
    "    select_queries.append(generate_random_select(\"benchmarking.tables\", column_names, withlike=False))\n",
    "\n",
    "# Benchmark SELECT\n",
    "cassandra_times_select = []\n",
    "for i in range(100):\n",
    "    gc.collect()\n",
    "    start_time = time.perf_counter()\n",
    "\n",
    "    session.execute(f\"{select_queries[i]}\")\n",
    "\n",
    "    end_time = time.perf_counter()\n",
    "    cassandra_times_select.append(end_time - start_time)"
   ]
  },
  {
   "cell_type": "markdown",
   "id": "da410d99",
   "metadata": {},
   "source": [
    "### Update"
   ]
  },
  {
   "cell_type": "code",
   "execution_count": null,
   "id": "5be92487",
   "metadata": {},
   "outputs": [],
   "source": [
    "column_names = ['BITCOIN_ADDRESS', 'IP_ADDRESS', 'COUNTY', 'COUNTRY_CODE', 'DATABASE_COLUMN_TYPE']\n",
    "\n",
    "set_of_key = []\n",
    "rows = session.execute(\"SELECT ACCOUNT FROM benchmarking.tables\")\n",
    "for a in rows:\n",
    "    set_of_key.append(a[0])\n",
    "\n",
    "update_queries = []\n",
    "for i in range(100):\n",
    "    update_queries.append(generate_random_update_query(\"benchmarking.tables\", column_names, \"ACCOUNT\", set_of_key))\n",
    "\n",
    "# Benchmark UPDATE\n",
    "for i in range(100):\n",
    "    gc.collect()\n",
    "    start_time = time.perf_counter()\n",
    "\n",
    "    session.execute(f\"{update_queries[i]}\")\n",
    "\n",
    "    end_time = time.perf_counter()\n",
    "    cassandra_times_select.append(end_time - start_time)\n",
    "    "
   ]
  },
  {
   "cell_type": "markdown",
   "id": "7ea9df79",
   "metadata": {},
   "source": [
    "### Delete"
   ]
  },
  {
   "cell_type": "code",
   "execution_count": null,
   "id": "2c5cf3a4",
   "metadata": {},
   "outputs": [],
   "source": [
    "set_of_key = []\n",
    "rows = session.execute(\"SELECT ACCOUNT FROM benchmarking.tables\")\n",
    "for a in rows:\n",
    "    set_of_key.append(a[0])\n",
    "\n",
    "delete_queries = []\n",
    "for i in range(100):\n",
    "    delete_queries.append(generate_random_delete_query(\"benchmarking.tables\", \"ACCOUNT\", set_of_key))\n",
    "\n",
    "# Benchmark UPDATE\n",
    "for i in range(100):\n",
    "    gc.collect()\n",
    "    start_time = time.perf_counter()\n",
    "\n",
    "    session.execute(f\"{delete_queries[i]}\")\n",
    "\n",
    "    end_time = time.perf_counter()\n",
    "    cassandra_times_select.append(end_time - start_time)"
   ]
  },
  {
   "cell_type": "markdown",
   "id": "dcd119db",
   "metadata": {},
   "source": [
    "## Index utilisation"
   ]
  },
  {
   "cell_type": "markdown",
   "id": "635953fd",
   "metadata": {},
   "source": [
    "**Creation of an index**\n",
    "\n",
    "`COUNTY` colum is selected to be indexed because it have a moderate cardinality. The indexing must have a significant effect on queries performances. "
   ]
  },
  {
   "cell_type": "code",
   "execution_count": null,
   "id": "c2f9482c",
   "metadata": {},
   "outputs": [],
   "source": [
    "# Create two tables to compare \n",
    "session.execute(\"\"\"CREATE TABLE IF NOT EXISTS benchmarking.indexedtable (BITCOIN_ADDRESS text, ACCOUNT text, \n",
    "IP_ADDRESS text, COUNTY text, COUNTRY_CODE text, DATABASE_COLUMN_TYPE text, PRIMARY KEY \n",
    "(ACCOUNT))\"\"\")\n",
    "session.execute(\"\"\"CREATE TABLE IF NOT EXISTS benchmarking.notindexedtable (BITCOIN_ADDRESS text, ACCOUNT text, \n",
    "IP_ADDRESS text, COUNTY text, COUNTRY_CODE text, DATABASE_COLUMN_TYPE text, PRIMARY KEY \n",
    "(ACCOUNT))\"\"\")\n",
    "\n",
    "# Import data\n",
    "with open(\"/home/data.csv\", 'r') as file:\n",
    "    reader = csv.DictReader(file)\n",
    "    indexed_insert_query = session.prepare(\"\"\"\n",
    "INSERT INTO benchmarking.indexedtable (BITCOIN_ADDRESS, ACCOUNT, IP_ADDRESS, COUNTY, COUNTRY_CODE, DATABASE_COLUMN_TYPE)\n",
    "VALUES (?, ?, ?, ?, ?, ?)\n",
    "\"\"\")\n",
    "    notindexed_insert_query = session.prepare(\"\"\"\n",
    "INSERT INTO benchmarking.notindexedtable (BITCOIN_ADDRESS, ACCOUNT, IP_ADDRESS, COUNTY, COUNTRY_CODE, DATABASE_COLUMN_TYPE)\n",
    "VALUES (?, ?, ?, ?, ?, ?)\n",
    "\"\"\")\n",
    "\n",
    "    batch = BatchStatement()\n",
    "\n",
    "    for row in reader:\n",
    "        session.execute(indexed_insert_query, (\n",
    "            row['BITCOIN_ADDRESS'],\n",
    "            row['ACCOUNT'],\n",
    "            row['IP_ADDRESS'],\n",
    "            row['COUNTY'],\n",
    "            row['COUNTRY_CODE'],\n",
    "            row['DATABASE_COLUMN_TYPE']\n",
    "        ))\n",
    "        session.execute(notindexed_insert_query, (\n",
    "            row['BITCOIN_ADDRESS'],\n",
    "            row['ACCOUNT'],\n",
    "            row['IP_ADDRESS'],\n",
    "            row['COUNTY'],\n",
    "            row['COUNTRY_CODE'],\n",
    "            row['DATABASE_COLUMN_TYPE']\n",
    "        ))\n",
    "\n",
    "    session.execute(batch)\n",
    "\n",
    "# Create index\n",
    "create_index_query = \"\"\"CREATE INDEX contryindex on benchmarking.indexedtable (COUNTY)\"\"\"\n",
    "session.execute(create_index_query)"
   ]
  },
  {
   "cell_type": "markdown",
   "id": "958063cf",
   "metadata": {},
   "source": [
    "**Sample of query**"
   ]
  },
  {
   "cell_type": "code",
   "execution_count": null,
   "id": "3f4b80fc",
   "metadata": {},
   "outputs": [],
   "source": [
    "# With index\n",
    "gc.collect()\n",
    "start_time = time.perf_counter()\n",
    "    \n",
    "session.execute(\"SELECT * FROM benchmarking.indexedtable WHERE COUNTY = 'Bedfo'\")\n",
    "\n",
    "end_time = time.perf_counter()\n",
    "print(\"With index : \", end_time - start_time)\n",
    "\n",
    "# Without index\n",
    "gc.collect()\n",
    "start_time = time.perf_counter()\n",
    "    \n",
    "session.execute(\"SELECT * FROM benchmarking.notindexedtable WHERE COUNTY = 'Bedfo' ALLOW FILTERING\")\n",
    "\n",
    "end_time = time.perf_counter()\n",
    "print(\"Without index : \", end_time - start_time)"
   ]
  }
 ],
 "metadata": {
  "kernelspec": {
   "display_name": "Python 3 (ipykernel)",
   "language": "python",
   "name": "python3"
  },
  "language_info": {
   "codemirror_mode": {
    "name": "ipython",
    "version": 3
   },
   "file_extension": ".py",
   "mimetype": "text/x-python",
   "name": "python",
   "nbconvert_exporter": "python",
   "pygments_lexer": "ipython3",
   "version": "3.10.16"
  }
 },
 "nbformat": 4,
 "nbformat_minor": 5
}
