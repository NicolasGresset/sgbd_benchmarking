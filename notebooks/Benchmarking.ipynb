{
 "cells": [
  {
   "cell_type": "markdown",
   "id": "fc9a9acb-eb84-4eb4-bd53-a5b3727e6cb2",
   "metadata": {},
   "source": [
    "# SDB Benchmark"
   ]
  },
  {
   "cell_type": "markdown",
   "id": "a3cf435d",
   "metadata": {},
   "source": [
    "## Choices\n",
    "\n",
    "We took several parameters into account in order to provide unbiased and reproductible results. We present them in the next section.\n",
    "\n",
    "### Time measurement\n",
    "\n",
    "In order to measure accurately the time taken for a database CRUD operation to complete, we need to measure the duration between the moment the command is called and the moment it returns (both postgres and cassandra python API functions returns synchronuously). In addition, we measure time by several (100) batches of 100 measurements. This allows to plot the distribution of several latencies AND have precise enough measurements. \n",
    "Besides, we use the time.perf_counter function from the time module which has the best accuracy for measuring time in Python.Finally, we also clean the built-in garbage collector of Python before each measurement to ensure consistent behaviour.\n",
    "\n",
    "### Reproducibility\n",
    "\n",
    "Most of the queries we generate are random to limit bias in the analysis : one database system could perform surprisingly well for a specific data. Using random queries reduce such a bias. Therefore, we chose to write our queries once to a file and to perform them by reading directly the file instead of generating news random datas at each runtime execution. This let us make precise commentaries on the actual data we have observed which is the very same data you will see being displayed."
   ]
  },
  {
   "cell_type": "markdown",
   "id": "ad6755ea-1fc6-4488-979f-b962c3d891c3",
   "metadata": {},
   "source": [
    "## Initialise cassandra database\n",
    "\n",
    "If the following cells raise a `ConnexionRefuseError`, it may be because of the Cassandra database didn't finished to initialize."
   ]
  },
  {
   "cell_type": "code",
   "execution_count": 1,
   "id": "e1c641e7-dfa0-408d-92fc-947b5cfa7809",
   "metadata": {},
   "outputs": [],
   "source": [
    "import csv, gc, time\n",
    "import numpy as np\n",
    "from matplotlib import pyplot as plt \n",
    "from cassandra.cluster import Cluster\n",
    "from cassandra.query import BatchStatement"
   ]
  },
  {
   "cell_type": "code",
   "execution_count": null,
   "id": "355228ab",
   "metadata": {},
   "outputs": [],
   "source": [
    "time.sleep(120)\n",
    "\n",
    "cluster = Cluster(['cassandra'])\n",
    "session = cluster.connect()\n",
    "\n",
    "# Create a keyspace and table\n",
    "session.execute(\"\"\"CREATE KEYSPACE IF NOT EXISTS benchmarking WITH REPLICATION = \n",
    "{ 'class' : 'SimpleStrategy', 'replication_factor' : '1' }\"\"\")\n",
    "session.execute(\"\"\"CREATE TABLE IF NOT EXISTS benchmarking.bitcoin_addresses (BITCOIN_ADDRESS text, ACCOUNT text, \n",
    "IP_ADDRESS text, COUNTY text, COUNTRY_CODE text, DATABASE_COLUMN_TYPE text, PRIMARY KEY \n",
    "(BITCOIN_ADDRESS))\"\"\")\n"
   ]
  },
  {
   "cell_type": "markdown",
   "id": "3e07cd67",
   "metadata": {},
   "source": [
    "## Import Data into cassandra"
   ]
  },
  {
   "cell_type": "code",
   "execution_count": 10,
   "id": "22922ec7",
   "metadata": {},
   "outputs": [
    {
     "name": "stdout",
     "output_type": "stream",
     "text": [
      "0 %\n",
      "1 %\n",
      "2 %\n",
      "3 %\n",
      "4 %\n",
      "5 %\n",
      "6 %\n",
      "7 %\n",
      "8 %\n",
      "9 %\n",
      "10 %\n",
      "11 %\n",
      "12 %\n",
      "13 %\n",
      "14 %\n",
      "15 %\n",
      "16 %\n",
      "17 %\n",
      "18 %\n",
      "19 %\n",
      "20 %\n",
      "21 %\n",
      "22 %\n",
      "23 %\n",
      "24 %\n",
      "25 %\n",
      "26 %\n",
      "27 %\n",
      "28 %\n",
      "29 %\n",
      "30 %\n",
      "31 %\n",
      "32 %\n",
      "33 %\n",
      "34 %\n",
      "35 %\n",
      "36 %\n",
      "37 %\n",
      "38 %\n",
      "39 %\n",
      "40 %\n",
      "41 %\n",
      "42 %\n",
      "43 %\n",
      "44 %\n",
      "45 %\n",
      "46 %\n",
      "47 %\n",
      "48 %\n",
      "49 %\n",
      "50 %\n",
      "51 %\n",
      "52 %\n",
      "53 %\n",
      "54 %\n",
      "55 %\n",
      "56 %\n",
      "57 %\n",
      "58 %\n",
      "59 %\n",
      "60 %\n",
      "61 %\n",
      "62 %\n",
      "63 %\n",
      "64 %\n",
      "65 %\n",
      "66 %\n",
      "67 %\n",
      "68 %\n",
      "69 %\n",
      "70 %\n",
      "71 %\n",
      "72 %\n",
      "73 %\n",
      "74 %\n",
      "75 %\n",
      "76 %\n",
      "77 %\n",
      "78 %\n",
      "79 %\n",
      "80 %\n",
      "81 %\n",
      "82 %\n",
      "83 %\n",
      "84 %\n",
      "85 %\n",
      "86 %\n",
      "87 %\n",
      "88 %\n",
      "89 %\n",
      "90 %\n",
      "91 %\n",
      "92 %\n",
      "93 %\n",
      "94 %\n",
      "95 %\n",
      "96 %\n",
      "97 %\n",
      "98 %\n",
      "99 %\n"
     ]
    }
   ],
   "source": [
    "# import data\n",
    "with open(\"/home/data.csv\", 'r') as file:\n",
    "    reader = csv.DictReader(file)\n",
    "    insert_query = session.prepare(\"\"\"\n",
    "INSERT INTO benchmarking.bitcoin_addresses (BITCOIN_ADDRESS, ACCOUNT, IP_ADDRESS, COUNTY, COUNTRY_CODE, DATABASE_COLUMN_TYPE)\n",
    "VALUES (?, ?, ?, ?, ?, ?)\n",
    "\"\"\")\n",
    "    cassandra_times_import = np.empty(100)\n",
    "\n",
    "    for sample in range(100):\n",
    "        batch = BatchStatement()\n",
    "\n",
    "        for i in range(1000):\n",
    "            row = next(reader)\n",
    "            session.execute(insert_query, (\n",
    "                row['BITCOIN_ADDRESS'],\n",
    "                row['ACCOUNT'],\n",
    "                row['IP_ADDRESS'],\n",
    "                row['COUNTY'],\n",
    "                row['COUNTRY_CODE'],\n",
    "                row['DATABASE_COLUMN_TYPE']\n",
    "            ))\n",
    "\n",
    "        gc.collect()\n",
    "        start_time = time.perf_counter()\n",
    "\n",
    "        session.execute(batch)\n",
    "\n",
    "        end_time = time.perf_counter()\n",
    "        cassandra_times_import[sample] = (end_time - start_time)\n",
    "        print(sample, \"%\")"
   ]
  },
  {
   "cell_type": "code",
   "execution_count": 11,
   "id": "2c5b2a8f",
   "metadata": {},
   "outputs": [
    {
     "name": "stdout",
     "output_type": "stream",
     "text": [
      "[0.00121777 0.00085182 0.00085107 0.00155297 0.00109419 0.00085505\n",
      " 0.00096572 0.00098491 0.00086205 0.00081848 0.00082834 0.00090398\n",
      " 0.00093408 0.00086862 0.00090884 0.00134908 0.00095983 0.00088369\n",
      " 0.00113427 0.00142481 0.00095113 0.00104212 0.00077731 0.00110995\n",
      " 0.00100252 0.00091248 0.00092553 0.00106597 0.00099421 0.00097742\n",
      " 0.00082842 0.00085315 0.00088799 0.00074636 0.00083938 0.0007997\n",
      " 0.00084977 0.00088089 0.0008701  0.00097196 0.00101204 0.00086666\n",
      " 0.0008023  0.00089075 0.00077896 0.00079138 0.00092745 0.00094079\n",
      " 0.00107255 0.0009471  0.00095439 0.00088573 0.00085772 0.0008819\n",
      " 0.00122659 0.00102075 0.00087655 0.00098708 0.00100722 0.00085075\n",
      " 0.00076765 0.00105927 0.00075692 0.00107505 0.00082204 0.00082126\n",
      " 0.00079455 0.00093942 0.00082692 0.00100081 0.00083998 0.00078076\n",
      " 0.00089704 0.00099764 0.00087016 0.00102066 0.0009248  0.00080336\n",
      " 0.00083273 0.00086806 0.00094337 0.00084828 0.00084497 0.00079347\n",
      " 0.00089591 0.00087222 0.00093172 0.00099033 0.0007998  0.00089216\n",
      " 0.00077462 0.00081026 0.00079576 0.00085202 0.00084018 0.00100813\n",
      " 0.00093538 0.00098669 0.00087991 0.0009465 ]\n"
     ]
    }
   ],
   "source": [
    "print(cassandra_times_import)"
   ]
  },
  {
   "cell_type": "code",
   "execution_count": 6,
   "id": "919b20c8",
   "metadata": {},
   "outputs": [
    {
     "name": "stdout",
     "output_type": "stream",
     "text": [
      "hello world\n"
     ]
    }
   ],
   "source": [
    "print(\"hello world\")"
   ]
  },
  {
   "cell_type": "markdown",
   "id": "5d7f767c",
   "metadata": {},
   "source": [
    "## Initialise PostrgreSQL database"
   ]
  },
  {
   "cell_type": "code",
   "execution_count": 6,
   "id": "cd180c25",
   "metadata": {},
   "outputs": [],
   "source": [
    "# Connect to the database and set up the table\n",
    "import psycopg2, random, string\n",
    "from psycopg2 import sql\n",
    "\n",
    "connection = psycopg2.connect(\n",
    "    dbname=\"postgresDB\", \n",
    "    user=\"user\", \n",
    "    password=\"tprli\", \n",
    "    host=\"postgres\",  # Or use your database host if it's not local\n",
    "    port=\"5432\"  # Default PostgreSQL port\n",
    ")\n",
    "connection.autocommit = True\n",
    "cursor = connection.cursor()\n",
    "\n",
    "\n",
    "cursor.execute(\"DROP TABLE IF EXISTS bitcoin_addresses;\")\n",
    "\n",
    "# Step 2: Create the table in PostgreSQL if it doesn't exist\n",
    "create_table_query = \"\"\"\n",
    "CREATE TABLE bitcoin_addresses (\n",
    "    bitcoin_address VARCHAR(34) NOT NULL, -- Bitcoin addresses are usually 26-35 characters\n",
    "    account VARCHAR(20),                 -- Account numbers, max length derived from the example\n",
    "    ip_address VARCHAR(15),              -- IPv4 addresses, formatted as strings\n",
    "    county VARCHAR(50),                  -- County names, variable length\n",
    "    country_code CHAR(2),                -- Two-letter country codes\n",
    "    database_column_type VARCHAR(50),   -- Describes column type as text (e.g., mediumint, float),\n",
    "    PRIMARY KEY (bitcoin_address)\n",
    ");\n",
    "\"\"\"\n",
    "cursor.execute(create_table_query)"
   ]
  },
  {
   "cell_type": "markdown",
   "id": "12183e33",
   "metadata": {},
   "source": [
    "## import data into PostgreSQL"
   ]
  },
  {
   "cell_type": "code",
   "execution_count": 7,
   "id": "5c99cc60",
   "metadata": {},
   "outputs": [
    {
     "name": "stdout",
     "output_type": "stream",
     "text": [
      "data succesfully imported\n"
     ]
    }
   ],
   "source": [
    "postgres_times_import = np.empty(100)\n",
    "with open('/home/data.csv', 'r') as file:\n",
    "    reader = csv.reader(file)\n",
    "    next(reader)  # Skip the header row\n",
    "\n",
    "\n",
    "    insert_query = \"\"\"\n",
    "        INSERT INTO bitcoin_addresses (bitcoin_address, account, ip_address, county, country_code, database_column_type) VALUES (%s, %s, %s, %s, %s, %s)\n",
    "        \"\"\"\n",
    "\n",
    "\n",
    "    for i in range(100):\n",
    "        gc.collect()\n",
    "        start_time = time.perf_counter()\n",
    "        for j in range(1000):\n",
    "            cursor.execute(insert_query, next(reader))\n",
    "        end_time = time.perf_counter()\n",
    "        postgres_times_import[i] = (end_time - start_time)\n",
    "\n",
    "print(\"data succesfully imported\")"
   ]
  },
  {
   "cell_type": "code",
   "execution_count": 8,
   "id": "c5da1444",
   "metadata": {},
   "outputs": [
    {
     "name": "stdout",
     "output_type": "stream",
     "text": [
      "[2.76684361 2.77289488 2.78181484 2.85278779 2.79091903 2.7933599\n",
      " 2.73751649 2.76068579 2.74641867 2.78012487 2.98698425 2.88794868\n",
      " 3.0511889  2.92667969 2.87943665 2.94058218 2.90897973 2.83030669\n",
      " 2.88741033 2.95940044 2.91999476 2.67064618 2.92406765 2.92707333\n",
      " 2.90849847 2.96388526 2.87687823 2.97581734 2.98219193 2.87321507\n",
      " 2.97961245 3.09050853 3.02967527 2.96530243 3.02081624 2.9474481\n",
      " 2.88513389 2.94830955 2.97577726 2.99537598 2.94271401 2.95462815\n",
      " 3.01921307 2.99226257 2.94501223 3.008426   3.09710562 3.03367555\n",
      " 3.00084071 2.84983545 3.09145163 2.99994907 2.90720479 2.85314563\n",
      " 3.10752784 2.87047316 2.84954142 2.86831802 2.85818652 2.87438592\n",
      " 2.87999406 2.78428042 2.85906615 2.86040405 2.89710057 2.80273203\n",
      " 2.68806433 2.88976915 2.87932844 2.77543646 2.93740499 2.96824589\n",
      " 2.9467565  2.93920347 3.08987975 3.05006303 3.05612843 2.90929236\n",
      " 2.97171879 2.94244589 2.99464978 2.90130883 3.02325515 3.00090979\n",
      " 2.904394   3.02400276 2.94345826 2.9184221  2.90487008 2.88836482\n",
      " 2.96647754 3.02761091 3.09267449 3.02933869 2.96857746 3.04619368\n",
      " 2.93912271 2.92029863 2.98055557 2.99943372]\n"
     ]
    }
   ],
   "source": [
    "print(postgres_times_import)"
   ]
  },
  {
   "cell_type": "code",
   "execution_count": 13,
   "id": "be28ab87",
   "metadata": {},
   "outputs": [
    {
     "data": {
      "image/png": "[encoded data removed]",
      "text/plain": [
       "<Figure size 1000x600 with 1 Axes>"
      ]
     },
     "metadata": {},
     "output_type": "display_data"
    }
   ],
   "source": [
    "import numpy as np\n",
    "import matplotlib.pyplot as plt\n",
    "\n",
    "min_bin = min(cassandra_times_import.min(), postgres_times_import.min())\n",
    "max_bin = max(cassandra_times_import.max(), postgres_times_import.max())\n",
    "bins = np.linspace(min_bin, max_bin, 200)  # 20 bins entre les valeurs min et max\n",
    "\n",
    "# Création de l'histogramme avec des bornes communes\n",
    "plt.figure(figsize=(10, 6))\n",
    "plt.hist(cassandra_times_import, bins=bins, alpha=0.7, label='Cassandra', color='blue')\n",
    "plt.hist(postgres_times_import, bins=bins, alpha=0.7, label='Postgresql', color='orange')\n",
    "\n",
    "# Ajout des légendes et des titres\n",
    "plt.title('Histogram of import times with 2 databases systems', fontsize=16)\n",
    "plt.xlabel('SGBD Systems', fontsize=14)\n",
    "plt.ylabel('Frequency', fontsize=14)\n",
    "plt.legend(fontsize=12)\n",
    "plt.grid(alpha=0.3)\n",
    "\n",
    "# Affichage\n",
    "plt.show()"
   ]
  },
  {
   "cell_type": "code",
   "execution_count": 17,
   "id": "baad22a5",
   "metadata": {},
   "outputs": [
    {
     "data": {
      "image/png": "[encoded data removed]",
      "text/plain": [
       "<Figure size 800x600 with 1 Axes>"
      ]
     },
     "metadata": {},
     "output_type": "display_data"
    }
   ],
   "source": [
    "moyenne1 = np.mean(cassandra_times_import)\n",
    "moyenne2 = np.mean(postgres_times_import)\n",
    "\n",
    "labels = ['Cassandra', 'PostgreSQL']\n",
    "moyennes = [moyenne1, moyenne2]\n",
    "\n",
    "# Création du graphique en barres\n",
    "plt.figure(figsize=(8, 6))\n",
    "plt.bar(labels, moyennes, color=['blue', 'orange'], alpha=0.7)\n",
    "\n",
    "# Ajout des annotations\n",
    "for i, moyenne in enumerate(moyennes):\n",
    "    plt.text(i, moyenne + 1, f'{moyenne:.8f}', ha='center', fontsize=12)\n",
    "\n",
    "# Ajout des titres et légendes\n",
    "plt.title('Mean of import durations', fontsize=16)\n",
    "plt.ylabel('Moyenne de latence', fontsize=14)\n",
    "plt.grid(axis='y', alpha=0.3)\n",
    "\n",
    "# Affichage\n",
    "plt.show()"
   ]
  },
  {
   "cell_type": "markdown",
   "id": "adfb664d",
   "metadata": {},
   "source": [
    "## Requests Generation\n",
    "\n",
    "Generation of randomized queries"
   ]
  },
  {
   "cell_type": "code",
   "execution_count": 25,
   "id": "8dd1eb85",
   "metadata": {},
   "outputs": [],
   "source": [
    "import random\n",
    "# Generate random requests\n",
    "simulated_values = {\n",
    "    'BITCOIN_ADDRESS': lambda: f\"'{''.join(random.choices('ABCDEFGHJKLMNPQRSTUVWXYZ123456789', k=32))}'\",\n",
    "    'ACCOUNT': lambda: f\"'{random.randint(10000000, 99999999)}'\",\n",
    "    'IP_ADDRESS': lambda: f\"'{random.randint(1, 255)}.{random.randint(0, 255)}.{random.randint(0, 255)}.{random.randint(1, 255)}'\",\n",
    "    'COUNTY': lambda: f\"'{random.choice(['Buckinghamshire', 'Avon', 'Cambridgeshire', 'Bedfordshire', 'Borders'])}'\",\n",
    "    'COUNTRY_CODE': lambda: f\"'{random.choice('ABCDEFGHJKLMNPQRSTUVWXYZ')}{random.choice('ABCDEFGHJKLMNPQRSTUVWXYZ')}'\",\n",
    "    'DATABASE_COLUMN_TYPE': lambda: f\"'{random.choice(['float', 'point', 'int', 'serial', 'varchar', 'blob', 'timestamp'])}'\"\n",
    "}\n",
    "def generate_random_select_primary_key(table_name, primary_key, set_of_primary_key_values):\n",
    "    primary_key_value = random.choice(set_of_primary_key_values)\n",
    "\n",
    "    select_query = f\"SELECT * FROM {table_name} WHERE {primary_key} = '{primary_key_value}'\"\n",
    "    return select_query\n",
    "\n",
    "def generate_random_select_conditions(tables_name, column_names):\n",
    "    column = random.choice(column_names)\n",
    "\n",
    "    value = simulated_values[column]()  # Générer une valeur simulée pour la colonne\n",
    "    where_clause = f\"WHERE {column} = {value}\"\n",
    "\n",
    "    select_queries = {}\n",
    "    for table in tables_name:\n",
    "        select_queries[table] = f\"SELECT {column} FROM {table} {where_clause}\"\n",
    "    return select_queries\n",
    "\n",
    "def generate_random_update_query(table_name, column_names, primary_key, set_of_primary_key_values):\n",
    "    num_updates = random.randint(1,3)\n",
    "    columns_to_update = random.sample(column_names, num_updates)\n",
    "    update_values = [f\"{col} = {simulated_values[col]()}\" for col in columns_to_update]\n",
    "\n",
    "    primary_key_value = random.choice(set_of_primary_key_values)\n",
    "\n",
    "    update_query = f\"UPDATE {table_name} SET {', '.join(update_values)} WHERE {primary_key} = '{primary_key_value}'\"\n",
    "    return update_query\n",
    "\n",
    "def generate_random_delete_query(table_name, primary_key, set_of_primary_key_values):\n",
    "    primary_key_value = random.choice(set_of_primary_key_values)\n",
    "\n",
    "    delete_query = f\"DELETE FROM {table_name} WHERE {primary_key} = '{primary_key_value}'\"\n",
    "    return delete_query\n",
    "\n",
    "table = \"bitcoin_addresses\"\n",
    "table_indexed = \"bitcoin_addresses_indexed\"\n",
    "table_not_indexed = \"bitcoin_addresses_not_indexed\"\n",
    "conditions_column = ['COUNTY', 'COUNTRY_CODE','DATABASE_COLUMN_TYPE']\n",
    "update_column = ['ACCOUNT', 'IP_ADDRESS', 'COUNTY', 'COUNTRY_CODE', 'DATABASE_COLUMN_TYPE']\n",
    "primary_key = 'BITCOIN_ADDRESS'\n",
    "set_of_key = []\n",
    "rows = session.execute(\"SELECT BITCOIN_ADDRESS FROM benchmarking.bitcoin_addresses\")\n",
    "for a in rows:\n",
    "    set_of_key.append(a[0])\n",
    "\n",
    "# Generate Select queries to match primary key\n",
    "with open(\"select_primary_key.sql\", \"w\") as f:\n",
    "    for i in range(10000):\n",
    "        f.write(generate_random_select_primary_key(table, primary_key, set_of_key))\n",
    "        f.write(\"\\n\")\n",
    "    f.close()\n",
    "    \n",
    "# Generate Select with conditions queries\n",
    "with  open(\"select_conditions_not_indexed.sql\", \"w\") as f, open(\"select_conditions_indexed_0.sql\", \"w\") as f_index_table:\n",
    "    for i in range(100):\n",
    "        queries = generate_random_select_conditions([table_not_indexed, table_indexed], conditions_column)\n",
    "        f.write(queries[table_not_indexed])\n",
    "        f.write(\"\\n\")\n",
    "        f_index_table.write(queries[table_indexed])\n",
    "        f_index_table.write(\"\\n\")\n",
    "    f.close()\n",
    "\n",
    "# Generate Update queries\n",
    "with open(\"update.sql\", \"w\") as f:\n",
    "    for i in range(10000):\n",
    "        f.write(generate_random_update_query(table, update_column, primary_key, set_of_key))\n",
    "        f.write(\"\\n\")\n",
    "    f.close()\n",
    "\n",
    "# Generate Delete queries\n",
    "with open(\"delete.sql\", \"w\") as f:\n",
    "    for i in range(10000):\n",
    "        f.write(generate_random_delete_query(table, primary_key, set_of_key))\n",
    "        f.write(\"\\n\")\n",
    "    f.close()"
   ]
  },
  {
   "cell_type": "markdown",
   "id": "9cbd16a0",
   "metadata": {},
   "source": [
    "## Queries Benchmarking"
   ]
  },
  {
   "cell_type": "markdown",
   "id": "24bbf227",
   "metadata": {},
   "source": [
    "### Select\n",
    "\n",
    "#### Cassandra"
   ]
  },
  {
   "cell_type": "code",
   "execution_count": 3,
   "id": "aed75b61",
   "metadata": {},
   "outputs": [
    {
     "name": "stdout",
     "output_type": "stream",
     "text": [
      "[0.43874113 0.37989223 0.33858067 0.29878068 0.27673291 0.24575746\n",
      " 0.292858   0.30266506 0.2323254  0.23325105 0.24408097 0.24500588\n",
      " 0.20215337 0.19970992 0.20391004 0.20292758 0.22810172 0.27385431\n",
      " 0.2069418  0.2909687  0.22890486 0.22963674 0.21844871 0.24148413\n",
      " 0.25541651 0.2528514  0.20961406 0.19951056 0.20267317 0.35755599\n",
      " 0.25382356 0.20386967 0.21156321 0.27448104 0.19859918 0.19719873\n",
      " 0.26954562 0.23030601 0.25107259 0.26552258 0.26017314 0.33925846\n",
      " 0.36031712 0.35853156 0.37397215 0.342017   0.3238001  0.21860206\n",
      " 0.18610526 0.32732968 0.22669328 0.20042109 0.18086852 0.23190277\n",
      " 0.2895016  0.25182971 0.21926486 0.19046205 0.26356155 0.22101157\n",
      " 0.19185475 0.18469695 0.18265054 0.21011393 0.18724921 0.18059618\n",
      " 0.24628831 0.27947003 0.18864014 0.1823335  0.18163694 0.20803976\n",
      " 0.16941817 0.17492761 0.16192578 0.16260677 0.16149426 0.16851392\n",
      " 0.16070112 0.17248387 0.16839155 0.16352602 0.15934213 0.17065651\n",
      " 0.15939998 0.16530205 0.15406211 0.16854222 0.14773054 0.16183555\n",
      " 0.16658056 0.17310587 0.16200506 0.16709242 0.23132195 0.17413282\n",
      " 0.20698308 0.1588709  0.15347681 0.15320889]\n"
     ]
    }
   ],
   "source": [
    "# Benchmark SELECT\n",
    "session.set_keyspace(\"benchmarking\")\n",
    "\n",
    "select_path = \"select_primary_key_0.sql\"\n",
    "with open(select_path, \"r\") as file:\n",
    "    lines = file.readlines()\n",
    "    n_iter = int(len(lines)/100)\n",
    "    cassandra_times_select = np.empty(n_iter)\n",
    "    \n",
    "    for i in range(n_iter):\n",
    "        gc.collect()\n",
    "        start_time = time.perf_counter()\n",
    "\n",
    "        for j in range(100):\n",
    "            session.execute(lines[i*100 + j])\n",
    "\n",
    "        end_time = time.perf_counter()\n",
    "        cassandra_times_select[i] = (end_time - start_time)\n",
    "\n",
    "print(cassandra_times_select)"
   ]
  },
  {
   "cell_type": "markdown",
   "id": "99bd2ed0",
   "metadata": {},
   "source": [
    "#### PostgreSQL"
   ]
  },
  {
   "cell_type": "code",
   "execution_count": 20,
   "id": "966e0224",
   "metadata": {},
   "outputs": [
    {
     "name": "stdout",
     "output_type": "stream",
     "text": [
      "[0.02480564 0.02151742 0.02193831 0.02305975 0.01924432 0.01974552\n",
      " 0.02092553 0.01738784 0.01999947 0.01766379 0.01979448 0.01877473\n",
      " 0.01863107 0.01998674 0.02059031 0.01879533 0.02007763 0.0183402\n",
      " 0.02037129 0.01957651 0.01949073 0.0194543  0.0205829  0.01916042\n",
      " 0.02222362 0.01984615 0.02226696 0.02047857 0.01872544 0.01785005\n",
      " 0.02198793 0.0191772  0.01883298 0.01806171 0.0251184  0.02445628\n",
      " 0.02267849 0.02509458 0.02397507 0.02080402 0.01993398 0.01746025\n",
      " 0.01875643 0.0185785  0.01695288 0.02007395 0.01684668 0.01864678\n",
      " 0.02041515 0.01874851 0.02047555 0.01883266 0.01879681 0.01961488\n",
      " 0.02110305 0.01924047 0.02230688 0.01917352 0.0166588  0.01878024\n",
      " 0.01719789 0.01786752 0.01858051 0.01619423 0.01659606 0.01835661\n",
      " 0.0175684  0.01827592 0.01785903 0.01533304 0.01462106 0.01735745\n",
      " 0.02057479 0.02384888 0.01959505 0.02262203 0.02058192 0.02322728\n",
      " 0.01872196 0.01807875 0.02227546 0.02284972 0.02614527 0.01966631\n",
      " 0.01841423 0.02017714 0.01798148 0.01704343 0.01693119 0.02092504\n",
      " 0.01792733 0.01696583 0.01652806 0.01998493 0.02024771 0.02148894\n",
      " 0.02103008 0.01740339 0.01574263 0.01639702]\n"
     ]
    }
   ],
   "source": [
    "select_path = \"select_primary_key_0.sql\"\n",
    "with open(select_path, \"r\") as file:\n",
    "    lines = file.readlines()\n",
    "    n_iter = int(len(lines)/100)\n",
    "    postgres_times_select = np.empty(n_iter)\n",
    "    \n",
    "    for i in range(n_iter):\n",
    "        gc.collect()\n",
    "        start_time = time.perf_counter()\n",
    "\n",
    "        for j in range(100):\n",
    "            cursor.execute(lines[i*100 + j])\n",
    "\n",
    "        end_time = time.perf_counter()\n",
    "        postgres_times_select[i] = (end_time - start_time)\n",
    "print(postgres_times_select)"
   ]
  },
  {
   "cell_type": "code",
   "execution_count": 21,
   "id": "f58901b6",
   "metadata": {},
   "outputs": [
    {
     "data": {
      "image/png": "[encoded data removed]",
      "text/plain": [
       "<Figure size 1000x600 with 1 Axes>"
      ]
     },
     "metadata": {},
     "output_type": "display_data"
    }
   ],
   "source": [
    "min_bin = min(cassandra_times_select.min(), postgres_times_select.min())\n",
    "max_bin = max(cassandra_times_select.max(), postgres_times_select.max())\n",
    "bins = np.linspace(min_bin, max_bin, 200)  # 20 bins entre les valeurs min et max\n",
    "\n",
    "# Création de l'histogramme avec des bornes communes\n",
    "plt.figure(figsize=(10, 6))\n",
    "plt.hist(cassandra_times_select, bins=bins, alpha=0.7, label='Cassandra', color='blue')\n",
    "plt.hist(postgres_times_select, bins=bins, alpha=0.7, label='PostgreSQL', color='orange')\n",
    "\n",
    "# Ajout des légendes et des titres\n",
    "plt.title('Comparison of select queries', fontsize=16)\n",
    "plt.xlabel('SGBD system', fontsize=14)\n",
    "plt.ylabel('Frequency', fontsize=14)\n",
    "plt.legend(fontsize=12)\n",
    "plt.grid(alpha=0.3)\n",
    "\n",
    "# Affichage\n",
    "plt.show()"
   ]
  },
  {
   "cell_type": "code",
   "execution_count": 23,
   "id": "9e2a1043",
   "metadata": {},
   "outputs": [
    {
     "data": {
      "image/png": "[encoded data removed]",
      "text/plain": [
       "<Figure size 1000x600 with 1 Axes>"
      ]
     },
     "metadata": {},
     "output_type": "display_data"
    }
   ],
   "source": [
    "from scipy.stats import gaussian_kde\n",
    "\n",
    "# Estimation de la densité pour chaque ensemble de données\n",
    "x = np.linspace(min(cassandra_times_select.min(), postgres_times_select.min()), \n",
    "                max(cassandra_times_select.max(), postgres_times_select.max()), 500)\n",
    "density1 = gaussian_kde(cassandra_times_select)\n",
    "density2 = gaussian_kde(postgres_times_select)\n",
    "\n",
    "# Tracer les enveloppes des courbes de densité\n",
    "plt.figure(figsize=(10, 6))\n",
    "plt.plot(x, density1(x), label='Cassandra', color='blue', linewidth=2)\n",
    "plt.plot(x, density2(x), label='PostgreSQL', color='orange', linewidth=2)\n",
    "\n",
    "# Ajout des légendes et des titres\n",
    "plt.title('Comparison of select queries', fontsize=16)\n",
    "plt.xlabel('Duration', fontsize=14)\n",
    "plt.ylabel('Estimated density', fontsize=14)\n",
    "plt.legend(fontsize=12)\n",
    "plt.grid(alpha=0.3)\n",
    "\n",
    "# Affichage\n",
    "plt.show()"
   ]
  },
  {
   "cell_type": "markdown",
   "id": "da410d99",
   "metadata": {},
   "source": [
    "### Update\n",
    "\n",
    "#### Cassandra"
   ]
  },
  {
   "cell_type": "code",
   "execution_count": 24,
   "id": "5be92487",
   "metadata": {},
   "outputs": [
    {
     "name": "stdout",
     "output_type": "stream",
     "text": [
      "[0.20722852 0.16326704 0.11891919 0.12432801 0.11042166 0.09433536\n",
      " 0.08821225 0.13311429 0.11737467 0.09828496 0.08452447 0.08767238\n",
      " 0.08734196 0.0894627  0.12736801 0.08662136 0.08238709 0.09770533\n",
      " 0.08383116 0.07489045 0.09312593 0.08605911 0.11642301 0.11975347\n",
      " 0.12011157 0.10884035 0.08292707 0.08544286 0.08041329 0.08014513\n",
      " 0.105599   0.10937886 0.08211772 0.07138084 0.07192363 0.07232273\n",
      " 0.0716463  0.07590956 0.08439559 0.07339023 0.08704854 0.09696953\n",
      " 0.10509071 0.08020421 0.07397726 0.08471212 0.07616632 0.07514483\n",
      " 0.08144674 0.08261133 0.08637601 0.07991553 0.08572419 0.07814776\n",
      " 0.08121888 0.10729723 0.12389514 0.10755225 0.07879911 0.08800541\n",
      " 0.12292493 0.09013603 0.08044506 0.07496275 0.07314431 0.08029031\n",
      " 0.07195496 0.07006654 0.06489425 0.09581078 0.09605448 0.1020516\n",
      " 0.09329539 0.12207347 0.11633206 0.11378626 0.06026732 0.06291999\n",
      " 0.06194618 0.0712025  0.06332229 0.07120985 0.07866612 0.10195061\n",
      " 0.07695131 0.06802636 0.10226518 0.08435938 0.08357464 0.09801577\n",
      " 0.08897745 0.07636548 0.07469701 0.09106082 0.07811082 0.09992877\n",
      " 0.07277838 0.06977889 0.09642992 0.08479465]\n"
     ]
    }
   ],
   "source": [
    "# Benchmark Update\n",
    "session.set_keyspace(\"benchmarking\")\n",
    "\n",
    "select_path = \"update_0.sql\"\n",
    "with open(select_path, \"r\") as file:\n",
    "    lines = file.readlines()\n",
    "    n_iter = int(len(lines)/100)\n",
    "    cassandra_times_update = np.empty(n_iter)\n",
    "    \n",
    "    for i in range(n_iter):\n",
    "        gc.collect()\n",
    "        start_time = time.perf_counter()\n",
    "\n",
    "        for j in range(100):\n",
    "            session.execute(lines[i*100 + j])\n",
    "\n",
    "        end_time = time.perf_counter()\n",
    "        cassandra_times_update[i] = (end_time - start_time)\n",
    "print(cassandra_times_update)"
   ]
  },
  {
   "cell_type": "markdown",
   "id": "e5930ca5",
   "metadata": {},
   "source": [
    "#### PostgreSQL"
   ]
  },
  {
   "cell_type": "code",
   "execution_count": 16,
   "id": "9bee2380",
   "metadata": {},
   "outputs": [
    {
     "name": "stdout",
     "output_type": "stream",
     "text": [
      "[0.29388257 0.29892262 0.32443757 0.3074198  0.34650437 0.31036492\n",
      " 0.28986158 0.29686505 0.28439015 0.28093685 0.28848593 0.31499116\n",
      " 0.27437826 0.28518372 0.26942235 0.2882191  0.29728232 0.2882132\n",
      " 0.28372269 0.30827102 0.29241546 0.30478228 0.29124543 0.29900844\n",
      " 0.32450333 0.28125489 0.32509846 0.28933875 0.28818746 0.31289081\n",
      " 0.29145352 0.3156575  0.33226023 0.29029803 0.30746566 0.33682401\n",
      " 0.30628587 0.29688949 0.28833459 0.30904901 0.32005847 0.30342533\n",
      " 0.31282409 0.30375765 0.29328468 0.30591801 0.30759167 0.3170452\n",
      " 0.28611476 0.28588328 0.29869665 0.35995351 0.3042521  0.29431377\n",
      " 0.32320556 0.30606756 0.28883973 0.30733171 0.28531482 0.32591698\n",
      " 0.29045636 0.29955946 0.292605   0.30148204 0.29919359 0.30929034\n",
      " 0.27847579 0.31997614 0.28189325 0.31604105 0.31350344 0.31494874\n",
      " 0.31628916 0.30306246 0.29197294 0.3036214  0.32436891 0.31090389\n",
      " 0.30104167 0.28192033 0.29616123 0.28355905 0.31709184 0.28268095\n",
      " 0.31309422 0.32166385 0.35387934 0.30670334 0.33210591 0.317862\n",
      " 0.3119117  0.26145366 0.28572943 0.31206533 0.30141643 0.31488758\n",
      " 0.30448503 0.29704582 0.30109578 0.31640557]\n"
     ]
    }
   ],
   "source": [
    "select_path = \"update_0.sql\"\n",
    "with open(select_path, \"r\") as file:\n",
    "    lines = file.readlines()\n",
    "    n_iter = int(len(lines)/100)\n",
    "    postgres_times_update = np.empty(n_iter)\n",
    "    \n",
    "    for i in range(n_iter):\n",
    "        gc.collect()\n",
    "        start_time = time.perf_counter()\n",
    "\n",
    "        for j in range(100):\n",
    "            cursor.execute(lines[i*100 + j])\n",
    "\n",
    "        end_time = time.perf_counter()\n",
    "        postgres_times_update[i] = (end_time - start_time)\n",
    "print(postgres_times_update)"
   ]
  },
  {
   "cell_type": "code",
   "execution_count": 17,
   "id": "6152b466",
   "metadata": {},
   "outputs": [
    {
     "data": {
      "image/png": "[encoded data removed]",
      "text/plain": [
       "<Figure size 1000x600 with 1 Axes>"
      ]
     },
     "metadata": {},
     "output_type": "display_data"
    }
   ],
   "source": [
    "min_bin = min(cassandra_times_update.min(), postgres_times_update.min())\n",
    "max_bin = max(cassandra_times_update.max(), postgres_times_update.max())\n",
    "bins = np.linspace(min_bin, max_bin, 200)  # 20 bins entre les valeurs min et max\n",
    "\n",
    "# Création de l'histogramme avec des bornes communes\n",
    "plt.figure(figsize=(10, 6))\n",
    "plt.hist(cassandra_times_update, bins=bins, alpha=0.7, label='Cassandra', color='blue')\n",
    "plt.hist(postgres_times_update, bins=bins, alpha=0.7, label='PostgreSQL', color='orange')\n",
    "\n",
    "# Ajout des légendes et des titres\n",
    "plt.title('Comparison of update queries', fontsize=16)\n",
    "plt.xlabel('SGBD system', fontsize=14)\n",
    "plt.ylabel('Frequency', fontsize=14)\n",
    "plt.legend(fontsize=12)\n",
    "plt.grid(alpha=0.3)\n",
    "\n",
    "# Affichage\n",
    "plt.show()"
   ]
  },
  {
   "cell_type": "markdown",
   "id": "7ea9df79",
   "metadata": {},
   "source": [
    "### Delete\n",
    "\n",
    "#### Cassandra"
   ]
  },
  {
   "cell_type": "code",
   "execution_count": 25,
   "id": "2c5cf3a4",
   "metadata": {},
   "outputs": [
    {
     "name": "stdout",
     "output_type": "stream",
     "text": [
      "[0.12336761 0.16021472 0.07601968 0.06650211 0.06365852 0.08768926\n",
      " 0.0910511  0.08075962 0.07274155 0.06512468 0.06929542 0.06409452\n",
      " 0.06652839 0.0611498  0.08967191 0.06469739 0.06148557 0.05979684\n",
      " 0.07109833 0.0693656  0.0681473  0.06369813 0.0668856  0.06810074\n",
      " 0.06448166 0.05921534 0.06001751 0.05961664 0.06186127 0.06316342\n",
      " 0.06102057 0.07530718 0.06118373 0.06407812 0.07974484 0.07689265\n",
      " 0.11406165 0.09963257 0.08004645 0.07899334 0.06279894 0.06851901\n",
      " 0.08025423 0.06350349 0.08005582 0.07580818 0.07511129 0.06202842\n",
      " 0.0593858  0.0599523  0.07362639 0.06998092 0.05842448 0.06174335\n",
      " 0.09404031 0.0573051  0.05801817 0.05805921 0.0593031  0.06050844\n",
      " 0.07812286 0.07230716 0.06942142 0.07042228 0.06213461 0.07084792\n",
      " 0.07072247 0.06664912 0.05836639 0.08382768 0.07965755 0.06443803\n",
      " 0.0627834  0.05740659 0.06253663 0.06527182 0.05765091 0.05813034\n",
      " 0.05805162 0.07953797 0.05945754 0.06046134 0.05816552 0.07411714\n",
      " 0.07970891 0.07662429 0.06237986 0.0655732  0.05994163 0.05898166\n",
      " 0.05866716 0.05831511 0.05857791 0.05861919 0.05824224 0.05881413\n",
      " 0.08263113 0.07837942 0.07577906 0.06921837]\n"
     ]
    }
   ],
   "source": [
    "# Benchmark DELETE\n",
    "session.set_keyspace(\"benchmarking\")\n",
    "\n",
    "select_path = \"delete_0.sql\"\n",
    "with open(select_path, \"r\") as file:\n",
    "    lines = file.readlines()\n",
    "    n_iter = int(len(lines)/100)\n",
    "    cassandra_times_delete = np.empty(n_iter)\n",
    "    \n",
    "    for i in range(n_iter):\n",
    "        gc.collect()\n",
    "        start_time = time.perf_counter()\n",
    "\n",
    "        for j in range(100):\n",
    "            session.execute(lines[i*100 + j])\n",
    "\n",
    "        end_time = time.perf_counter()\n",
    "        cassandra_times_delete[i] = (end_time - start_time)\n",
    "print(cassandra_times_delete)"
   ]
  },
  {
   "cell_type": "markdown",
   "id": "31ddf907",
   "metadata": {},
   "source": [
    "#### PostgreSQL"
   ]
  },
  {
   "cell_type": "code",
   "execution_count": 26,
   "id": "cd83dc41",
   "metadata": {},
   "outputs": [
    {
     "name": "stdout",
     "output_type": "stream",
     "text": [
      "[0.30793712 0.31654004 0.308613   0.30049702 0.28583865 0.28918724\n",
      " 0.27753543 0.27270449 0.30267778 0.2743729  0.29711182 0.29390862\n",
      " 0.32560635 0.2750635  0.30545953 0.2940431  0.29862526 0.28865023\n",
      " 0.2875853  0.30055082 0.29493571 0.29641933 0.29891072 0.28436348\n",
      " 0.28296548 0.29298905 0.27082883 0.26373306 0.29280569 0.29349941\n",
      " 0.30805828 0.29202671 0.29045858 0.29942354 0.29710877 0.29043029\n",
      " 0.30060409 0.27795838 0.28459427 0.27904061 0.27670141 0.27936462\n",
      " 0.26879475 0.28586969 0.29709696 0.29022125 0.28124623 0.27640555\n",
      " 0.28840532 0.27891166 0.28979401 0.28195394 0.29762162 0.28906345\n",
      " 0.27162385 0.24817252 0.28557043 0.28760969 0.28273177 0.26268205\n",
      " 0.29989953 0.26537412 0.30508191 0.32115136 0.32944524 0.32618788\n",
      " 0.28698292 0.27308702 0.27329452 0.28286281 0.29319071 0.28526518\n",
      " 0.24552787 0.29748969 0.28750954 0.29371439 0.29220066 0.26801542\n",
      " 0.29508825 0.27205199 0.28293999 0.25419371 0.29578857 0.24423344\n",
      " 0.26314878 0.28671057 0.27543581 0.25693995 0.24601742 0.29303083\n",
      " 0.24866525 0.30413163 0.27697923 0.29032115 0.26238985 0.29661457\n",
      " 0.27264863 0.27291853 0.26740001 0.27022677]\n"
     ]
    }
   ],
   "source": [
    "# Benchmark DELETE\n",
    "session.set_keyspace(\"benchmarking\")\n",
    "\n",
    "select_path = \"delete_0.sql\"\n",
    "with open(select_path, \"r\") as file:\n",
    "    lines = file.readlines()\n",
    "    n_iter = int(len(lines)/100)\n",
    "    postgres_times_delete = np.empty(n_iter)\n",
    "    \n",
    "    for i in range(n_iter):\n",
    "        gc.collect()\n",
    "        start_time = time.perf_counter()\n",
    "\n",
    "        for j in range(100):\n",
    "            cursor.execute(lines[i*100 + j])\n",
    "\n",
    "        end_time = time.perf_counter()\n",
    "        postgres_times_delete[i] = (end_time - start_time)\n",
    "print(postgres_times_delete)"
   ]
  },
  {
   "cell_type": "code",
   "execution_count": null,
   "id": "820be375",
   "metadata": {},
   "outputs": [],
   "source": [
    "min_bin = min(cassandra_times_delete.min(), postgres_times_delete.min())\n",
    "max_bin = max(cassandra_times_delete.max(), postgres_times_delete.max())\n",
    "bins = np.linspace(min_bin, max_bin, 200)  # 20 bins entre les valeurs min et max\n",
    "\n",
    "# Création de l'histogramme avec des bornes communes\n",
    "plt.figure(figsize=(10, 6))\n",
    "plt.hist(cassandra_times_delete, bins=bins, alpha=0.7, label='Cassandra', color='blue')\n",
    "plt.hist(postgres_times_delete, bins=bins, alpha=0.7, label='PostgreSQL', color='orange')\n",
    "\n",
    "# Ajout des légendes et des titres\n",
    "plt.title('Comparison of delete queries', fontsize=16)\n",
    "plt.xlabel('SGBD system', fontsize=14)\n",
    "plt.ylabel('Frequency', fontsize=14)\n",
    "plt.legend(fontsize=12)\n",
    "plt.grid(alpha=0.3)\n",
    "\n",
    "# Affichage\n",
    "plt.show()"
   ]
  },
  {
   "cell_type": "markdown",
   "id": "dcd119db",
   "metadata": {},
   "source": [
    "## Index utilisation"
   ]
  },
  {
   "cell_type": "markdown",
   "id": "635953fd",
   "metadata": {},
   "source": [
    "Set up new table to benchmark effect of indexing."
   ]
  },
  {
   "cell_type": "code",
   "execution_count": 14,
   "id": "c2f9482c",
   "metadata": {},
   "outputs": [],
   "source": [
    "# Create two tables to compare \n",
    "session.execute(\"\"\"CREATE TABLE IF NOT EXISTS benchmarking.bitcoin_addresses_not_indexed (BITCOIN_ADDRESS text, ACCOUNT text, \n",
    "IP_ADDRESS text, COUNTY text, COUNTRY_CODE text, DATABASE_COLUMN_TYPE text, PRIMARY KEY \n",
    "(BITCOIN_ADDRESS))\"\"\")\n",
    "session.execute(\"\"\"CREATE TABLE IF NOT EXISTS benchmarking.bitcoin_addresses_indexed (BITCOIN_ADDRESS text, ACCOUNT text, \n",
    "IP_ADDRESS text, COUNTY text, COUNTRY_CODE text, DATABASE_COLUMN_TYPE text, PRIMARY KEY \n",
    "(BITCOIN_ADDRESS))\"\"\")\n",
    "\n",
    "# Import data\n",
    "with open(\"/home/data.csv\", 'r') as file:\n",
    "    reader = csv.DictReader(file)\n",
    "    indexed_insert_query = session.prepare(\"\"\"\n",
    "INSERT INTO benchmarking.bitcoin_addresses_not_indexed (BITCOIN_ADDRESS, ACCOUNT, IP_ADDRESS, COUNTY, COUNTRY_CODE, DATABASE_COLUMN_TYPE)\n",
    "VALUES (?, ?, ?, ?, ?, ?)\n",
    "\"\"\")\n",
    "    notindexed_insert_query = session.prepare(\"\"\"\n",
    "INSERT INTO benchmarking.bitcoin_addresses_indexed (BITCOIN_ADDRESS, ACCOUNT, IP_ADDRESS, COUNTY, COUNTRY_CODE, DATABASE_COLUMN_TYPE)\n",
    "VALUES (?, ?, ?, ?, ?, ?)\n",
    "\"\"\")\n",
    "\n",
    "    batch = BatchStatement()\n",
    "\n",
    "    for row in reader:\n",
    "        session.execute(indexed_insert_query, (\n",
    "            row['BITCOIN_ADDRESS'],\n",
    "            row['ACCOUNT'],\n",
    "            row['IP_ADDRESS'],\n",
    "            row['COUNTY'],\n",
    "            row['COUNTRY_CODE'],\n",
    "            row['DATABASE_COLUMN_TYPE']\n",
    "        ))\n",
    "        session.execute(notindexed_insert_query, (\n",
    "            row['BITCOIN_ADDRESS'],\n",
    "            row['ACCOUNT'],\n",
    "            row['IP_ADDRESS'],\n",
    "            row['COUNTY'],\n",
    "            row['COUNTRY_CODE'],\n",
    "            row['DATABASE_COLUMN_TYPE']\n",
    "        ))\n",
    "\n",
    "    session.execute(batch)"
   ]
  },
  {
   "cell_type": "markdown",
   "id": "df4a659e",
   "metadata": {},
   "source": [
    "**Creation of an index**\n",
    "\n",
    "`COUNTY` `COUNTRY_CODE` `DATABASE_COLUMN_TYPE` columns are selected to be indexed because they have a moderate cardinality. The indexing must have a significant effect on queries performances."
   ]
  },
  {
   "cell_type": "code",
   "execution_count": 15,
   "id": "f1cc4f23",
   "metadata": {},
   "outputs": [
    {
     "data": {
      "text/plain": [
       "<cassandra.cluster.ResultSet at 0x786c2f363fa0>"
      ]
     },
     "execution_count": 15,
     "metadata": {},
     "output_type": "execute_result"
    }
   ],
   "source": [
    "\n",
    "# Create index\n",
    "create_index_query_county = \"\"\"CREATE INDEX IF NOT EXISTS countyindex on benchmarking.bitcoin_addresses_indexed (COUNTY)\"\"\"\n",
    "session.execute(create_index_query_county)\n",
    "create_index_query_countrycode = \"\"\"CREATE INDEX IF NOT EXISTS countrycodeindex on benchmarking.bitcoin_addresses_indexed (COUNTRY_CODE)\"\"\"\n",
    "session.execute(create_index_query_countrycode)\n",
    "create_index_query_datacolumntype = \"\"\"CREATE INDEX IF NOT EXISTS datacolumntypeindex on benchmarking.bitcoin_addresses_indexed (DATABASE_COLUMN_TYPE)\"\"\"\n",
    "session.execute(create_index_query_datacolumntype)"
   ]
  },
  {
   "cell_type": "markdown",
   "id": "958063cf",
   "metadata": {},
   "source": [
    "#### Queries with conditions\n",
    "To evaluate the performance of indexing, we perform SELECT queries with where clause on indexed columns."
   ]
  },
  {
   "cell_type": "markdown",
   "id": "fdb42060",
   "metadata": {},
   "source": [
    "**Indexed table**"
   ]
  },
  {
   "cell_type": "code",
   "execution_count": 34,
   "id": "3f4b80fc",
   "metadata": {},
   "outputs": [],
   "source": [
    "# Benchmark indexed table\n",
    "session.set_keyspace(\"benchmarking\")\n",
    "\n",
    "select_path = \"select_conditions_indexed_0.sql\"\n",
    "with open(select_path, \"r\") as file:\n",
    "    lines = file.readlines()\n",
    "    n_iter = len(lines)\n",
    "    cassandra_times_select_indexed = np.empty(n_iter)\n",
    "    \n",
    "    for line in lines:\n",
    "        gc.collect()\n",
    "        start_time = time.perf_counter()\n",
    "\n",
    "        session.execute(line)\n",
    "\n",
    "        end_time = time.perf_counter()\n",
    "        cassandra_times_select_indexed[i] = (end_time - start_time)"
   ]
  },
  {
   "cell_type": "markdown",
   "id": "14a54451",
   "metadata": {},
   "source": [
    "**Not indexed table**"
   ]
  },
  {
   "cell_type": "code",
   "execution_count": null,
   "id": "5eb33aee",
   "metadata": {},
   "outputs": [],
   "source": [
    "# Benchmark not indexed table\n",
    "session.set_keyspace(\"benchmarking\")\n",
    "\n",
    "select_path = \"select_conditions_not_indexed_0.sql\"\n",
    "with open(select_path, \"r\") as file:\n",
    "    lines = file.readlines()\n",
    "    n_iter = len(lines)\n",
    "    cassandra_times_select_not_indexed = np.empty(n_iter)\n",
    "    for i in range(n_iter):\n",
    "        lines[i] = f\"{lines[i][:-1]} ALLOW FILTERING\"\n",
    "    \n",
    "    for line in lines:\n",
    "        gc.collect()\n",
    "        start_time = time.perf_counter()\n",
    "\n",
    "        session.execute(lines[i*100 + j])\n",
    "\n",
    "        end_time = time.perf_counter()\n",
    "        cassandra_times_select_not_indexed[i] = (end_time - start_time)"
   ]
  },
  {
   "cell_type": "markdown",
   "id": "8eec10fd",
   "metadata": {},
   "source": [
    "## Replication performances benchmarking"
   ]
  },
  {
   "cell_type": "markdown",
   "id": "dd288596",
   "metadata": {},
   "source": [
    "**Setup replication**"
   ]
  },
  {
   "cell_type": "code",
   "execution_count": 2,
   "id": "9bf96ae3",
   "metadata": {},
   "outputs": [
    {
     "data": {
      "text/plain": [
       "<cassandra.cluster.ResultSet at 0x7f25962b8f10>"
      ]
     },
     "execution_count": 2,
     "metadata": {},
     "output_type": "execute_result"
    }
   ],
   "source": [
    "cluster_replicate = Cluster(['cassandra-replicat-0'])\n",
    "session_replicate = cluster_replicate.connect()\n",
    "\n",
    "# Create keyspace with replication\n",
    "session_replicate.execute(\"\"\"CREATE KEYSPACE IF NOT EXISTS benchmarking WITH REPLICATION = \n",
    "{ 'class' : 'SimpleStrategy', 'replication_factor' : '3' }\"\"\")\n",
    "\n",
    "# Create table\n",
    "session_replicate.execute(\"\"\"CREATE TABLE IF NOT EXISTS benchmarking.bitcoin_addresses (BITCOIN_ADDRESS text, ACCOUNT text, \n",
    "IP_ADDRESS text, COUNTY text, COUNTRY_CODE text, DATABASE_COLUMN_TYPE text, PRIMARY KEY \n",
    "(BITCOIN_ADDRESS))\"\"\")"
   ]
  },
  {
   "cell_type": "markdown",
   "id": "ab2e2c7a",
   "metadata": {},
   "source": [
    "**Import Data**"
   ]
  },
  {
   "cell_type": "code",
   "execution_count": 3,
   "id": "bd1499ae",
   "metadata": {},
   "outputs": [
    {
     "name": "stdout",
     "output_type": "stream",
     "text": [
      "0 %\n",
      "1 %\n",
      "2 %\n",
      "3 %\n",
      "4 %\n",
      "5 %\n",
      "6 %\n",
      "7 %\n",
      "8 %\n",
      "9 %\n",
      "10 %\n",
      "11 %\n",
      "12 %\n",
      "13 %\n",
      "14 %\n",
      "15 %\n",
      "16 %\n",
      "17 %\n",
      "18 %\n",
      "19 %\n",
      "20 %\n",
      "21 %\n",
      "22 %\n",
      "23 %\n",
      "24 %\n",
      "25 %\n",
      "26 %\n",
      "27 %\n",
      "28 %\n",
      "29 %\n",
      "30 %\n",
      "31 %\n",
      "32 %\n",
      "33 %\n",
      "34 %\n",
      "35 %\n",
      "36 %\n",
      "37 %\n",
      "38 %\n",
      "39 %\n",
      "40 %\n",
      "41 %\n",
      "42 %\n",
      "43 %\n",
      "44 %\n",
      "45 %\n",
      "46 %\n",
      "47 %\n",
      "48 %\n",
      "49 %\n",
      "50 %\n",
      "51 %\n",
      "52 %\n",
      "53 %\n",
      "54 %\n",
      "55 %\n",
      "56 %\n",
      "57 %\n",
      "58 %\n",
      "59 %\n",
      "60 %\n",
      "61 %\n",
      "62 %\n",
      "63 %\n",
      "64 %\n",
      "65 %\n",
      "66 %\n",
      "67 %\n",
      "68 %\n",
      "69 %\n",
      "70 %\n",
      "71 %\n",
      "72 %\n",
      "73 %\n",
      "74 %\n",
      "75 %\n",
      "76 %\n",
      "77 %\n",
      "78 %\n",
      "79 %\n",
      "80 %\n",
      "81 %\n",
      "82 %\n",
      "83 %\n",
      "84 %\n",
      "85 %\n",
      "86 %\n",
      "87 %\n",
      "88 %\n",
      "89 %\n",
      "90 %\n",
      "91 %\n",
      "92 %\n",
      "93 %\n",
      "94 %\n",
      "95 %\n",
      "96 %\n",
      "97 %\n",
      "98 %\n",
      "99 %\n"
     ]
    }
   ],
   "source": [
    "# Import data\n",
    "with open(\"/home/data.csv\", 'r') as file:\n",
    "    reader = csv.DictReader(file)\n",
    "    insert_query = session_replicate.prepare(\"\"\"\n",
    "INSERT INTO benchmarking.bitcoin_addresses (BITCOIN_ADDRESS, ACCOUNT, IP_ADDRESS, COUNTY, COUNTRY_CODE, DATABASE_COLUMN_TYPE)\n",
    "VALUES (?, ?, ?, ?, ?, ?)\n",
    "\"\"\")\n",
    "    cassandra_replication_times_import = np.empty(100)\n",
    "\n",
    "    for sample in range(100):\n",
    "        batch = BatchStatement()\n",
    "\n",
    "        for i in range(1000):\n",
    "            row = next(reader)\n",
    "            session_replicate.execute(insert_query, (\n",
    "                row['BITCOIN_ADDRESS'],\n",
    "                row['ACCOUNT'],\n",
    "                row['IP_ADDRESS'],\n",
    "                row['COUNTY'],\n",
    "                row['COUNTRY_CODE'],\n",
    "                row['DATABASE_COLUMN_TYPE']\n",
    "            ))\n",
    "\n",
    "        gc.collect()\n",
    "        start_time = time.perf_counter()\n",
    "\n",
    "        session_replicate.execute(batch)\n",
    "\n",
    "        end_time = time.perf_counter()\n",
    "        cassandra_replication_times_import[sample] = (end_time - start_time)\n",
    "        print(sample, \"%\")"
   ]
  },
  {
   "cell_type": "markdown",
   "id": "5be592a0",
   "metadata": {},
   "source": [
    "**SELECT**"
   ]
  },
  {
   "cell_type": "code",
   "execution_count": 4,
   "id": "5c7226fc",
   "metadata": {},
   "outputs": [],
   "source": [
    "# Benchmark SELECT\n",
    "session_replicate.set_keyspace(\"benchmarking\")\n",
    "\n",
    "select_path = \"select_primary_key_0.sql\"\n",
    "with open(select_path, \"r\") as file:\n",
    "    lines = file.readlines()\n",
    "    n_iter = int(len(lines)/100)\n",
    "    cassandra_replicate_times_select = np.empty(n_iter)\n",
    "    \n",
    "    for i in range(n_iter):\n",
    "        gc.collect()\n",
    "        start_time = time.perf_counter()\n",
    "\n",
    "        for j in range(100):\n",
    "            session_replicate.execute(lines[i*100 + j])\n",
    "\n",
    "        end_time = time.perf_counter()\n",
    "        cassandra_replicate_times_select[i] = (end_time - start_time)"
   ]
  },
  {
   "cell_type": "markdown",
   "id": "0b8ddd80",
   "metadata": {},
   "source": [
    "**UPDATE**"
   ]
  },
  {
   "cell_type": "code",
   "execution_count": 5,
   "id": "620294d2",
   "metadata": {},
   "outputs": [],
   "source": [
    "# Benchmark DELETE\n",
    "session_replicate.set_keyspace(\"benchmarking\")\n",
    "\n",
    "select_path = \"update_0.sql\"\n",
    "with open(select_path, \"r\") as file:\n",
    "    lines = file.readlines()\n",
    "    n_iter = int(len(lines)/100)\n",
    "    cassandra_replicate_times_update = np.empty(n_iter)\n",
    "    \n",
    "    for i in range(n_iter):\n",
    "        gc.collect()\n",
    "        start_time = time.perf_counter()\n",
    "\n",
    "        for j in range(100):\n",
    "            session_replicate.execute(lines[i*100 + j])\n",
    "\n",
    "        end_time = time.perf_counter()\n",
    "        cassandra_replicate_times_update[i] = (end_time - start_time)"
   ]
  },
  {
   "cell_type": "markdown",
   "id": "f1ca0182",
   "metadata": {},
   "source": [
    "**Delete**"
   ]
  },
  {
   "cell_type": "code",
   "execution_count": 6,
   "id": "97538157",
   "metadata": {},
   "outputs": [],
   "source": [
    "# Benchmark DELETE\n",
    "session_replicate.set_keyspace(\"benchmarking\")\n",
    "\n",
    "select_path = \"delete_0.sql\"\n",
    "with open(select_path, \"r\") as file:\n",
    "    lines = file.readlines()\n",
    "    n_iter = int(len(lines)/100)\n",
    "    cassandra_replicate_times_delete = np.empty(n_iter)\n",
    "    \n",
    "    for i in range(n_iter):\n",
    "        gc.collect()\n",
    "        start_time = time.perf_counter()\n",
    "\n",
    "        for j in range(100):\n",
    "            session_replicate.execute(lines[i*100 + j])\n",
    "\n",
    "        end_time = time.perf_counter()\n",
    "        cassandra_replicate_times_delete[i] = (end_time - start_time)"
   ]
  }
 ],
 "metadata": {
  "kernelspec": {
   "display_name": "Python 3 (ipykernel)",
   "language": "python",
   "name": "python3"
  },
  "language_info": {
   "codemirror_mode": {
    "name": "ipython",
    "version": 3
   },
   "file_extension": ".py",
   "mimetype": "text/x-python",
   "name": "python",
   "nbconvert_exporter": "python",
   "pygments_lexer": "ipython3",
   "version": "3.10.16"
  }
 },
 "nbformat": 4,
 "nbformat_minor": 5
}
