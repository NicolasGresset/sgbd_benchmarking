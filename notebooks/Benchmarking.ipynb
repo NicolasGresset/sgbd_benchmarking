{
 "cells": [
  {
   "cell_type": "markdown",
   "id": "fc9a9acb-eb84-4eb4-bd53-a5b3727e6cb2",
   "metadata": {},
   "source": [
    "# SDB Benchmark"
   ]
  },
  {
   "cell_type": "markdown",
   "id": "ad6755ea-1fc6-4488-979f-b962c3d891c3",
   "metadata": {},
   "source": [
    "## Initialise database\n",
    "\n",
    "If the following cells raise a `ConnexionRefuseError`, it may be because of the Cassandra database didn't finished to initialize."
   ]
  },
  {
   "cell_type": "code",
   "execution_count": null,
   "id": "e1c641e7-dfa0-408d-92fc-947b5cfa7809",
   "metadata": {},
   "outputs": [],
   "source": [
    "import csv, gc, time\n",
    "import numpy as np\n",
    "from matplotlib import pyplot as plt \n",
    "from cassandra.cluster import Cluster\n",
    "from cassandra.query import BatchStatement\n",
    "\n",
    "#time.sleep(120)\n",
    "\n",
    "cluster = Cluster(['cassandra'])\n",
    "session = cluster.connect()\n",
    "\n",
    "# Create a keyspace and table\n",
    "session.execute(\"\"\"CREATE KEYSPACE IF NOT EXISTS benchmarking WITH REPLICATION = \n",
    "{ 'class' : 'SimpleStrategy', 'replication_factor' : '1' }\"\"\")\n",
    "session.execute(\"\"\"CREATE TABLE IF NOT EXISTS benchmarking.bitcoin_addresses (BITCOIN_ADDRESS text, ACCOUNT text, \n",
    "IP_ADDRESS text, COUNTY text, COUNTRY_CODE text, DATABASE_COLUMN_TYPE text, PRIMARY KEY \n",
    "(BITCOIN_ADDRESS))\"\"\")\n"
   ]
  },
  {
   "cell_type": "markdown",
   "id": "3e07cd67",
   "metadata": {},
   "source": [
    "## Import Data"
   ]
  },
  {
   "cell_type": "code",
   "execution_count": 4,
   "id": "22922ec7",
   "metadata": {},
   "outputs": [],
   "source": [
    "# Import data\n",
    "with open(\"/home/data.csv\", 'r') as file:\n",
    "    reader = csv.DictReader(file)\n",
    "    insert_query = session.prepare(\"\"\"\n",
    "INSERT INTO benchmarking.bitcoin_addresses (BITCOIN_ADDRESS, ACCOUNT, IP_ADDRESS, COUNTY, COUNTRY_CODE, DATABASE_COLUMN_TYPE)\n",
    "VALUES (?, ?, ?, ?, ?, ?)\n",
    "\"\"\")\n",
    "    cassandra_times_import = []\n",
    "\n",
    "    for sample in range(100):\n",
    "        batch = BatchStatement()\n",
    "\n",
    "        for i in range(1000):\n",
    "            row = next(reader)\n",
    "            session.execute(insert_query, (\n",
    "                row['BITCOIN_ADDRESS'],\n",
    "                row['ACCOUNT'],\n",
    "                row['IP_ADDRESS'],\n",
    "                row['COUNTY'],\n",
    "                row['COUNTRY_CODE'],\n",
    "                row['DATABASE_COLUMN_TYPE']\n",
    "            ))\n",
    "\n",
    "        gc.collect()\n",
    "        start_time = time.perf_counter()\n",
    "\n",
    "        session.execute(batch)\n",
    "\n",
    "        end_time = time.perf_counter()\n",
    "        cassandra_times_import.append(end_time - start_time)"
   ]
  },
  {
   "cell_type": "markdown",
   "id": "adfb664d",
   "metadata": {},
   "source": [
    "## Requests Generation\n",
    "\n",
    "Generation of randomized queries"
   ]
  },
  {
   "cell_type": "code",
   "execution_count": 25,
   "id": "8dd1eb85",
   "metadata": {},
   "outputs": [],
   "source": [
    "import random\n",
    "# Generate random requests\n",
    "simulated_values = {\n",
    "    'BITCOIN_ADDRESS': lambda: f\"'{''.join(random.choices('ABCDEFGHJKLMNPQRSTUVWXYZ123456789', k=32))}'\",\n",
    "    'ACCOUNT': lambda: f\"'{random.randint(10000000, 99999999)}'\",\n",
    "    'IP_ADDRESS': lambda: f\"'{random.randint(1, 255)}.{random.randint(0, 255)}.{random.randint(0, 255)}.{random.randint(1, 255)}'\",\n",
    "    'COUNTY': lambda: f\"'{random.choice(['Buckinghamshire', 'Avon', 'Cambridgeshire', 'Bedfordshire', 'Borders'])}'\",\n",
    "    'COUNTRY_CODE': lambda: f\"'{random.choice('ABCDEFGHJKLMNPQRSTUVWXYZ')}{random.choice('ABCDEFGHJKLMNPQRSTUVWXYZ')}'\",\n",
    "    'DATABASE_COLUMN_TYPE': lambda: f\"'{random.choice(['float', 'point', 'int', 'serial', 'varchar', 'blob', 'timestamp'])}'\"\n",
    "}\n",
    "def generate_random_select_primary_key(table_name, primary_key, set_of_primary_key_values):\n",
    "    primary_key_value = random.choice(set_of_primary_key_values)\n",
    "\n",
    "    select_query = f\"SELECT * FROM {table_name} WHERE {primary_key} = '{primary_key_value}'\"\n",
    "    return select_query\n",
    "\n",
    "def generate_random_select_conditions(tables_name, column_names):\n",
    "    column = random.choice(column_names)\n",
    "\n",
    "    value = simulated_values[column]()  # Générer une valeur simulée pour la colonne\n",
    "    where_clause = f\"WHERE {column} = {value}\"\n",
    "\n",
    "    select_queries = {}\n",
    "    for table in tables_name:\n",
    "        select_queries[table] = f\"SELECT {column} FROM {table} {where_clause}\"\n",
    "    return select_queries\n",
    "\n",
    "def generate_random_update_query(table_name, column_names, primary_key, set_of_primary_key_values):\n",
    "    num_updates = random.randint(1,3)\n",
    "    columns_to_update = random.sample(column_names, num_updates)\n",
    "    update_values = [f\"{col} = {simulated_values[col]()}\" for col in columns_to_update]\n",
    "\n",
    "    primary_key_value = random.choice(set_of_primary_key_values)\n",
    "\n",
    "    update_query = f\"UPDATE {table_name} SET {', '.join(update_values)} WHERE {primary_key} = '{primary_key_value}'\"\n",
    "    return update_query\n",
    "\n",
    "def generate_random_delete_query(table_name, primary_key, set_of_primary_key_values):\n",
    "    primary_key_value = random.choice(set_of_primary_key_values)\n",
    "\n",
    "    delete_query = f\"DELETE FROM {table_name} WHERE {primary_key} = '{primary_key_value}'\"\n",
    "    return delete_query\n",
    "\n",
    "table = \"bitcoin_addresses\"\n",
    "table_indexed = \"bitcoin_addresses_indexed\"\n",
    "table_not_indexed = \"bitcoin_addresses_not_indexed\"\n",
    "conditions_column = ['COUNTY', 'COUNTRY_CODE','DATABASE_COLUMN_TYPE']\n",
    "update_column = ['ACCOUNT', 'IP_ADDRESS', 'COUNTY', 'COUNTRY_CODE', 'DATABASE_COLUMN_TYPE']\n",
    "primary_key = 'BITCOIN_ADDRESS'\n",
    "set_of_key = []\n",
    "rows = session.execute(\"SELECT BITCOIN_ADDRESS FROM benchmarking.bitcoin_addresses\")\n",
    "for a in rows:\n",
    "    set_of_key.append(a[0])\n",
    "\n",
    "# Generate Select queries to match primary key\n",
    "with open(\"select_primary_key_0.sql\", \"w\") as f:\n",
    "    for i in range(10000):\n",
    "        f.write(generate_random_select_primary_key(table, primary_key, set_of_key))\n",
    "        f.write(\"\\n\")\n",
    "    f.close()\n",
    "    \n",
    "# Generate Select with conditions queries\n",
    "with  open(\"select_conditions_not_indexed_0.sql\", \"w\") as f, open(\"select_conditions_indexed_0.sql\", \"w\") as f_index_table:\n",
    "    for i in range(100):\n",
    "        queries = generate_random_select_conditions([table_not_indexed, table_indexed], conditions_column)\n",
    "        f.write(queries[table_not_indexed])\n",
    "        f.write(\"\\n\")\n",
    "        f_index_table.write(queries[table_indexed])\n",
    "        f_index_table.write(\"\\n\")\n",
    "    f.close()\n",
    "\n",
    "# Generate Update queries\n",
    "with open(\"update_0.sql\", \"w\") as f:\n",
    "    for i in range(10000):\n",
    "        f.write(generate_random_update_query(table, update_column, primary_key, set_of_key))\n",
    "        f.write(\"\\n\")\n",
    "    f.close()\n",
    "\n",
    "# Generate Delete queries\n",
    "with open(\"delete_0.sql\", \"w\") as f:\n",
    "    for i in range(10000):\n",
    "        f.write(generate_random_delete_query(table, primary_key, set_of_key))\n",
    "        f.write(\"\\n\")\n",
    "    f.close()"
   ]
  },
  {
   "cell_type": "markdown",
   "id": "9cbd16a0",
   "metadata": {},
   "source": [
    "## Queries Benchmarking"
   ]
  },
  {
   "cell_type": "markdown",
   "id": "24bbf227",
   "metadata": {},
   "source": [
    "### Select"
   ]
  },
  {
   "cell_type": "code",
   "execution_count": null,
   "id": "aed75b61",
   "metadata": {},
   "outputs": [],
   "source": [
    "# Benchmark SELECT\n",
    "session.set_keyspace(\"benchmarking\")\n",
    "\n",
    "select_path = \"select_primary_key_0.sql\"\n",
    "with open(select_path, \"r\") as file:\n",
    "    lines = file.readlines()\n",
    "    n_iter = int(len(lines)/100)\n",
    "    cassandra_times_select = np.empty(n_iter)\n",
    "    \n",
    "    for i in range(n_iter):\n",
    "        gc.collect()\n",
    "        start_time = time.perf_counter()\n",
    "\n",
    "        for j in range(100):\n",
    "            session.execute(lines[i*100 + j])\n",
    "\n",
    "        end_time = time.perf_counter()\n",
    "        cassandra_times_select[i] = (end_time - start_time)"
   ]
  },
  {
   "cell_type": "markdown",
   "id": "da410d99",
   "metadata": {},
   "source": [
    "### Update"
   ]
  },
  {
   "cell_type": "code",
   "execution_count": null,
   "id": "5be92487",
   "metadata": {},
   "outputs": [],
   "source": [
    "# Benchmark DELETE\n",
    "session.set_keyspace(\"benchmarking\")\n",
    "\n",
    "select_path = \"update_0.sql\"\n",
    "with open(select_path, \"r\") as file:\n",
    "    lines = file.readlines()\n",
    "    n_iter = int(len(lines)/100)\n",
    "    cassandra_times_update = np.empty(n_iter)\n",
    "    \n",
    "    for i in range(n_iter):\n",
    "        gc.collect()\n",
    "        start_time = time.perf_counter()\n",
    "\n",
    "        for j in range(100):\n",
    "            session.execute(lines[i*100 + j])\n",
    "\n",
    "        end_time = time.perf_counter()\n",
    "        cassandra_times_update[i] = (end_time - start_time)\n",
    "    "
   ]
  },
  {
   "cell_type": "markdown",
   "id": "7ea9df79",
   "metadata": {},
   "source": [
    "### Delete"
   ]
  },
  {
   "cell_type": "code",
   "execution_count": null,
   "id": "2c5cf3a4",
   "metadata": {},
   "outputs": [],
   "source": [
    "# Benchmark DELETE\n",
    "session.set_keyspace(\"benchmarking\")\n",
    "\n",
    "select_path = \"delete_0.sql\"\n",
    "with open(select_path, \"r\") as file:\n",
    "    lines = file.readlines()\n",
    "    n_iter = int(len(lines)/100)\n",
    "    cassandra_times_delete = np.empty(n_iter)\n",
    "    \n",
    "    for i in range(n_iter):\n",
    "        gc.collect()\n",
    "        start_time = time.perf_counter()\n",
    "\n",
    "        for j in range(100):\n",
    "            session.execute(lines[i*100 + j])\n",
    "\n",
    "        end_time = time.perf_counter()\n",
    "        cassandra_times_delete[i] = (end_time - start_time)"
   ]
  },
  {
   "cell_type": "markdown",
   "id": "dcd119db",
   "metadata": {},
   "source": [
    "## Index utilisation"
   ]
  },
  {
   "cell_type": "markdown",
   "id": "635953fd",
   "metadata": {},
   "source": [
    "Set up new table to benchmark effect of indexing."
   ]
  },
  {
   "cell_type": "code",
   "execution_count": 14,
   "id": "c2f9482c",
   "metadata": {},
   "outputs": [],
   "source": [
    "# Create two tables to compare \n",
    "session.execute(\"\"\"CREATE TABLE IF NOT EXISTS benchmarking.bitcoin_addresses_not_indexed (BITCOIN_ADDRESS text, ACCOUNT text, \n",
    "IP_ADDRESS text, COUNTY text, COUNTRY_CODE text, DATABASE_COLUMN_TYPE text, PRIMARY KEY \n",
    "(BITCOIN_ADDRESS))\"\"\")\n",
    "session.execute(\"\"\"CREATE TABLE IF NOT EXISTS benchmarking.bitcoin_addresses_indexed (BITCOIN_ADDRESS text, ACCOUNT text, \n",
    "IP_ADDRESS text, COUNTY text, COUNTRY_CODE text, DATABASE_COLUMN_TYPE text, PRIMARY KEY \n",
    "(BITCOIN_ADDRESS))\"\"\")\n",
    "\n",
    "# Import data\n",
    "with open(\"/home/data.csv\", 'r') as file:\n",
    "    reader = csv.DictReader(file)\n",
    "    indexed_insert_query = session.prepare(\"\"\"\n",
    "INSERT INTO benchmarking.bitcoin_addresses_not_indexed (BITCOIN_ADDRESS, ACCOUNT, IP_ADDRESS, COUNTY, COUNTRY_CODE, DATABASE_COLUMN_TYPE)\n",
    "VALUES (?, ?, ?, ?, ?, ?)\n",
    "\"\"\")\n",
    "    notindexed_insert_query = session.prepare(\"\"\"\n",
    "INSERT INTO benchmarking.bitcoin_addresses_indexed (BITCOIN_ADDRESS, ACCOUNT, IP_ADDRESS, COUNTY, COUNTRY_CODE, DATABASE_COLUMN_TYPE)\n",
    "VALUES (?, ?, ?, ?, ?, ?)\n",
    "\"\"\")\n",
    "\n",
    "    batch = BatchStatement()\n",
    "\n",
    "    for row in reader:\n",
    "        session.execute(indexed_insert_query, (\n",
    "            row['BITCOIN_ADDRESS'],\n",
    "            row['ACCOUNT'],\n",
    "            row['IP_ADDRESS'],\n",
    "            row['COUNTY'],\n",
    "            row['COUNTRY_CODE'],\n",
    "            row['DATABASE_COLUMN_TYPE']\n",
    "        ))\n",
    "        session.execute(notindexed_insert_query, (\n",
    "            row['BITCOIN_ADDRESS'],\n",
    "            row['ACCOUNT'],\n",
    "            row['IP_ADDRESS'],\n",
    "            row['COUNTY'],\n",
    "            row['COUNTRY_CODE'],\n",
    "            row['DATABASE_COLUMN_TYPE']\n",
    "        ))\n",
    "\n",
    "    session.execute(batch)"
   ]
  },
  {
   "cell_type": "markdown",
   "id": "df4a659e",
   "metadata": {},
   "source": [
    "**Creation of an index**\n",
    "\n",
    "`COUNTY` `COUNTRY_CODE` `DATABASE_COLUMN_TYPE` columns are selected to be indexed because they have a moderate cardinality. The indexing must have a significant effect on queries performances."
   ]
  },
  {
   "cell_type": "code",
   "execution_count": 15,
   "id": "f1cc4f23",
   "metadata": {},
   "outputs": [
    {
     "data": {
      "text/plain": [
       "<cassandra.cluster.ResultSet at 0x786c2f363fa0>"
      ]
     },
     "execution_count": 15,
     "metadata": {},
     "output_type": "execute_result"
    }
   ],
   "source": [
    "\n",
    "# Create index\n",
    "create_index_query_county = \"\"\"CREATE INDEX IF NOT EXISTS countyindex on benchmarking.bitcoin_addresses_indexed (COUNTY)\"\"\"\n",
    "session.execute(create_index_query_county)\n",
    "create_index_query_countrycode = \"\"\"CREATE INDEX IF NOT EXISTS countrycodeindex on benchmarking.bitcoin_addresses_indexed (COUNTRY_CODE)\"\"\"\n",
    "session.execute(create_index_query_countrycode)\n",
    "create_index_query_datacolumntype = \"\"\"CREATE INDEX IF NOT EXISTS datacolumntypeindex on benchmarking.bitcoin_addresses_indexed (DATABASE_COLUMN_TYPE)\"\"\"\n",
    "session.execute(create_index_query_datacolumntype)"
   ]
  },
  {
   "cell_type": "markdown",
   "id": "958063cf",
   "metadata": {},
   "source": [
    "#### Queries with conditions\n",
    "To evaluate the performance of indexing, we perform SELECT queries with where clause on indexed columns."
   ]
  },
  {
   "cell_type": "markdown",
   "id": "fdb42060",
   "metadata": {},
   "source": [
    "**Indexed table**"
   ]
  },
  {
   "cell_type": "code",
   "execution_count": 34,
   "id": "3f4b80fc",
   "metadata": {},
   "outputs": [],
   "source": [
    "# Benchmark indexed table\n",
    "session.set_keyspace(\"benchmarking\")\n",
    "\n",
    "select_path = \"select_conditions_indexed_0.sql\"\n",
    "with open(select_path, \"r\") as file:\n",
    "    lines = file.readlines()\n",
    "    n_iter = len(lines)\n",
    "    cassandra_times_select_indexed = np.empty(n_iter)\n",
    "    \n",
    "    for line in lines:\n",
    "        gc.collect()\n",
    "        start_time = time.perf_counter()\n",
    "\n",
    "        session.execute(line)\n",
    "\n",
    "        end_time = time.perf_counter()\n",
    "        cassandra_times_select_indexed[i] = (end_time - start_time)"
   ]
  },
  {
   "cell_type": "markdown",
   "id": "14a54451",
   "metadata": {},
   "source": [
    "**Not indexed table**"
   ]
  },
  {
   "cell_type": "code",
   "execution_count": null,
   "id": "5eb33aee",
   "metadata": {},
   "outputs": [],
   "source": [
    "# Benchmark not indexed table\n",
    "session.set_keyspace(\"benchmarking\")\n",
    "\n",
    "select_path = \"select_conditions_not_indexed_0.sql\"\n",
    "with open(select_path, \"r\") as file:\n",
    "    lines = file.readlines()\n",
    "    n_iter = len(lines)\n",
    "    cassandra_times_select_not_indexed = np.empty(n_iter)\n",
    "    for i in range(n_iter):\n",
    "        lines[i] = f\"{lines[i][:-1]} ALLOW FILTERING\"\n",
    "    \n",
    "    for line in lines:\n",
    "        gc.collect()\n",
    "        start_time = time.perf_counter()\n",
    "\n",
    "        session.execute(lines[i*100 + j])\n",
    "\n",
    "        end_time = time.perf_counter()\n",
    "        cassandra_times_select_not_indexed[i] = (end_time - start_time)"
   ]
  },
  {
   "cell_type": "markdown",
   "id": "8eec10fd",
   "metadata": {},
   "source": [
    "## Replication performances benchmarking"
   ]
  },
  {
   "cell_type": "markdown",
   "id": "dd288596",
   "metadata": {},
   "source": [
    "**Setup replication**"
   ]
  },
  {
   "cell_type": "code",
   "execution_count": null,
   "id": "9bf96ae3",
   "metadata": {},
   "outputs": [],
   "source": [
    "# Create keyspace with replication\n",
    "session.execute(\"\"\"CREATE KEYSPACE IF NOT EXISTS benchmarkingreplication WITH REPLICATION = \n",
    "{ 'class' : 'SimpleStrategy', 'replication_factor' : '3' }\"\"\")\n",
    "\n",
    "# Create table\n",
    "session.execute(\"\"\"CREATE TABLE IF NOT EXISTS benchmarkingreplication.bitcoin_addresses (BITCOIN_ADDRESS text, ACCOUNT text, \n",
    "IP_ADDRESS text, COUNTY text, COUNTRY_CODE text, DATABASE_COLUMN_TYPE text, PRIMARY KEY \n",
    "(BITCOIN_ADDRESS))\"\"\")"
   ]
  },
  {
   "cell_type": "markdown",
   "id": "ab2e2c7a",
   "metadata": {},
   "source": [
    "**Import Data**"
   ]
  },
  {
   "cell_type": "code",
   "execution_count": null,
   "id": "bd1499ae",
   "metadata": {},
   "outputs": [],
   "source": [
    "# Import data\n",
    "with open(\"/home/data.csv\", 'r') as file:\n",
    "    reader = csv.DictReader(file)\n",
    "    insert_query = session.prepare(\"\"\"\n",
    "INSERT INTO benchmarkingreplication.tab (BITCOIN_ADDRESS, ACCOUNT, IP_ADDRESS, COUNTY, COUNTRY_CODE, DATABASE_COLUMN_TYPE)\n",
    "VALUES (?, ?, ?, ?, ?, ?)\n",
    "\"\"\")\n",
    "    cassandra_times_replication_import = []\n",
    "\n",
    "    for sample in range(100):\n",
    "        batch = BatchStatement()\n",
    "\n",
    "        for i in range(1000):\n",
    "            row = next(reader)\n",
    "            session.execute(insert_query, (\n",
    "                row['BITCOIN_ADDRESS'],\n",
    "                row['ACCOUNT'],\n",
    "                row['IP_ADDRESS'],\n",
    "                row['COUNTY'],\n",
    "                row['COUNTRY_CODE'],\n",
    "                row['DATABASE_COLUMN_TYPE']\n",
    "            ))\n",
    "\n",
    "        gc.collect()\n",
    "        start_time = time.perf_counter()\n",
    "\n",
    "        session.execute(batch)\n",
    "\n",
    "        end_time = time.perf_counter()\n",
    "        cassandra_times_replication_import.append(end_time - start_time)"
   ]
  },
  {
   "cell_type": "markdown",
   "id": "5be592a0",
   "metadata": {},
   "source": [
    "**SELECT**"
   ]
  },
  {
   "cell_type": "code",
   "execution_count": null,
   "id": "5c7226fc",
   "metadata": {},
   "outputs": [],
   "source": [
    "# Benchmark SELECT\n",
    "session.set_keyspace('benchmarkingreplication')\n",
    "cassandra_times_replication_select = []\n",
    "for i in range(100):\n",
    "    gc.collect()\n",
    "    start_time = time.perf_counter()\n",
    "\n",
    "    session.execute(f\"{select_queries[i]}\")\n",
    "\n",
    "    end_time = time.perf_counter()\n",
    "    cassandra_times_replication_select.append(end_time - start_time)"
   ]
  },
  {
   "cell_type": "markdown",
   "id": "0b8ddd80",
   "metadata": {},
   "source": [
    "**UPDATE**"
   ]
  },
  {
   "cell_type": "code",
   "execution_count": null,
   "id": "620294d2",
   "metadata": {},
   "outputs": [],
   "source": [
    "# Benchmark UPDATE\n",
    "session.set_keyspace('benchmarkingreplication')\n",
    "cassandra_times_update = []\n",
    "for i in range(100):\n",
    "    gc.collect()\n",
    "    start_time = time.perf_counter()\n",
    "\n",
    "    session.execute(f\"{update_queries[i]}\")\n",
    "\n",
    "    end_time = time.perf_counter()\n",
    "    cassandra_times_update.append(end_time - start_time)"
   ]
  },
  {
   "cell_type": "markdown",
   "id": "f1ca0182",
   "metadata": {},
   "source": [
    "**Delete**"
   ]
  },
  {
   "cell_type": "code",
   "execution_count": null,
   "id": "97538157",
   "metadata": {},
   "outputs": [],
   "source": [
    "# Benchmark UPDATE\n",
    "session.set_keyspacex('benchmarkingreplication')\n",
    "cassandra_times_delete = []\n",
    "for i in range(100):\n",
    "    gc.collect()\n",
    "    start_time = time.perf_counter()\n",
    "\n",
    "    session.execute(f\"{delete_queries[i]}\")\n",
    "\n",
    "    end_time = time.perf_counter()\n",
    "    cassandra_times_delete.append(end_time - start_time)"
   ]
  }
 ],
 "metadata": {
  "kernelspec": {
   "display_name": "Python 3 (ipykernel)",
   "language": "python",
   "name": "python3"
  },
  "language_info": {
   "codemirror_mode": {
    "name": "ipython",
    "version": 3
   },
   "file_extension": ".py",
   "mimetype": "text/x-python",
   "name": "python",
   "nbconvert_exporter": "python",
   "pygments_lexer": "ipython3",
   "version": "3.10.16"
  }
 },
 "nbformat": 4,
 "nbformat_minor": 5
}
