{
 "cells": [
  {
   "cell_type": "markdown",
   "id": "9cbd16a0",
   "metadata": {},
   "source": [
    "## Queries Benchmarking"
   ]
  },
  {
   "cell_type": "code",
   "execution_count": 172,
   "id": "c54e0bc2",
   "metadata": {
    "vscode": {
     "languageId": "plaintext"
    }
   },
   "outputs": [],
   "source": [
    "# Connec to the database and set up the table\n",
    "import psycopg2\n",
    "import csv\n",
    "import json\n",
    "import gc \n",
    "import time\n",
    "import random\n",
    "from psycopg2 import sql\n",
    "import string\n",
    "\n",
    "\n",
    "connection = psycopg2.connect(\n",
    "    dbname=\"postgresDB\", \n",
    "    user=\"user\", \n",
    "    password=\"tprli\", \n",
    "    host=\"postgres\",  # Or use your database host if it's not local\n",
    "    port=\"5432\"  # Default PostgreSQL port\n",
    ")\n",
    "connection.autocommit = True\n",
    "cursor = connection.cursor()\n",
    "\n",
    "\n",
    "cursor.execute(\"DROP TABLE IF EXISTS bitcoin_addresses;\")\n",
    "\n",
    "# Step 2: Create the table in PostgreSQL if it doesn't exist\n",
    "create_table_query = \"\"\"\n",
    "CREATE TABLE bitcoin_addresses (\n",
    "    bitcoin_address VARCHAR(34) NOT NULL, -- Bitcoin addresses are usually 26-35 characters\n",
    "    account VARCHAR(20),                 -- Account numbers, max length derived from the example\n",
    "    ip_address VARCHAR(15),              -- IPv4 addresses, formatted as strings\n",
    "    county VARCHAR(50),                  -- County names, variable length\n",
    "    country_code CHAR(2),                -- Two-letter country codes\n",
    "    database_column_type VARCHAR(50),   -- Describes column type as text (e.g., mediumint, float),\n",
    "    PRIMARY KEY (bitcoin_address)\n",
    ");\n",
    "\"\"\"\n",
    "cursor.execute(create_table_query)"
   ]
  },
  {
   "cell_type": "code",
   "execution_count": 173,
   "id": "6a8af161",
   "metadata": {
    "vscode": {
     "languageId": "plaintext"
    }
   },
   "outputs": [
    {
     "name": "stdout",
     "output_type": "stream",
     "text": [
      "data succesfully imported\n"
     ]
    }
   ],
   "source": [
    "# import data\n",
    "\n",
    "def import_csv(path):\n",
    "    with open(path, 'r') as f:\n",
    "        next(f) # Skip the header row.\n",
    "\n",
    "        gc.collect()\n",
    "        start_time = time.perf_counter()\n",
    "        cursor.copy_from(f, 'bitcoin_addresses', sep=\",\")\n",
    "        end_time = time.perf_counter()\n",
    "    return end_time - start_time\n",
    "\n",
    "import_time = import_csv('/home/data.csv')\n",
    "\n",
    "print(\"data succesfully imported\")"
   ]
  },
  {
   "cell_type": "code",
   "execution_count": 88,
   "id": "13774083",
   "metadata": {
    "vscode": {
     "languageId": "plaintext"
    }
   },
   "outputs": [
    {
     "name": "stdout",
     "output_type": "stream",
     "text": [
      "('10YP6UCZM1SACWVYAWHQE3ZD3JK06MLEK',)\n"
     ]
    },
    {
     "ename": "NameError",
     "evalue": "name 'random_string' is not defined",
     "output_type": "error",
     "traceback": [
      "\u001b[0;31m---------------------------------------------------------------------------\u001b[0m",
      "\u001b[0;31mNameError\u001b[0m                                 Traceback (most recent call last)",
      "Cell \u001b[0;32mIn[88], line 12\u001b[0m\n\u001b[1;32m      9\u001b[0m random_key \u001b[38;5;241m=\u001b[39m result[\u001b[38;5;241m0\u001b[39m]\n\u001b[1;32m     11\u001b[0m \u001b[38;5;66;03m# Générer de nouvelles valeurs aléatoires pour les colonnes spécifiées\u001b[39;00m\n\u001b[0;32m---> 12\u001b[0m new_values \u001b[38;5;241m=\u001b[39m {col: random_string() \u001b[38;5;28;01mfor\u001b[39;00m col \u001b[38;5;129;01min\u001b[39;00m column_names}\n\u001b[1;32m     14\u001b[0m \u001b[38;5;28mprint\u001b[39m(new_values)\n\u001b[1;32m     16\u001b[0m \u001b[38;5;66;03m# Construire et exécuter la requête UPDATE\u001b[39;00m\n",
      "Cell \u001b[0;32mIn[88], line 12\u001b[0m, in \u001b[0;36m<dictcomp>\u001b[0;34m(.0)\u001b[0m\n\u001b[1;32m      9\u001b[0m random_key \u001b[38;5;241m=\u001b[39m result[\u001b[38;5;241m0\u001b[39m]\n\u001b[1;32m     11\u001b[0m \u001b[38;5;66;03m# Générer de nouvelles valeurs aléatoires pour les colonnes spécifiées\u001b[39;00m\n\u001b[0;32m---> 12\u001b[0m new_values \u001b[38;5;241m=\u001b[39m {col: \u001b[43mrandom_string\u001b[49m() \u001b[38;5;28;01mfor\u001b[39;00m col \u001b[38;5;129;01min\u001b[39;00m column_names}\n\u001b[1;32m     14\u001b[0m \u001b[38;5;28mprint\u001b[39m(new_values)\n\u001b[1;32m     16\u001b[0m \u001b[38;5;66;03m# Construire et exécuter la requête UPDATE\u001b[39;00m\n",
      "\u001b[0;31mNameError\u001b[0m: name 'random_string' is not defined"
     ]
    }
   ],
   "source": [
    "def get_random_key():\n",
    "    \"\"\"\n",
    "    Returns a random key from the table \n",
    "    \"\"\"\n",
    "    cursor.execute(\"\"\"\n",
    "        SELECT bitcoin_address FROM bitcoin_addresses ORDER BY RANDOM() LIMIT 1;\n",
    "    \"\"\")\n",
    "    return cursor.fetchone()"
   ]
  },
  {
   "cell_type": "code",
   "execution_count": null,
   "id": "cf2c898a",
   "metadata": {
    "vscode": {
     "languageId": "plaintext"
    }
   },
   "outputs": [],
   "source": [
    "# delete\n",
    "\n",
    "def delete_entry(key):\n",
    "    \"\"\"\n",
    "    Deletes the entry whose key is key and returns the time needed for this operation\n",
    "    \"\"\"\n",
    "    gc.collect()\n",
    "    start_time = time.perf_counter()\n",
    "    cursor.execute(\"\"\"\n",
    "        DELETE FROM bitcoin_addresses WHERE bitcoin_address = %s;\n",
    "    \"\"\", key)\n",
    "    end_time = time.perf_counter()\n",
    "\n",
    "    return end_time - start_time\n",
    "\n",
    "print(delete_entry(get_random_key()))"
   ]
  },
  {
   "cell_type": "code",
   "execution_count": null,
   "id": "8715f87b",
   "metadata": {
    "vscode": {
     "languageId": "plaintext"
    }
   },
   "outputs": [],
   "source": [
    "# read\n",
    "\n",
    "def read_entry(key):\n",
    "    \"\"\"\n",
    "    Reads all columns related to the entry whose key is key and returns the time needed for retrieving the value\n",
    "    \"\"\"\n",
    "    gc.collect()\n",
    "    start_time = time.perf_counter()\n",
    "    cursor.execute(\"\"\"\n",
    "        SELECT * FROM bitcoin_addresses WHERE bitcoin_address = %s\n",
    "    \"\"\", key)\n",
    "    end_time = time.perf_counter()\n",
    "\n",
    "    return end_time - start_time\n",
    "\n",
    "print(read_entry(get_random_key()))"
   ]
  },
  {
   "cell_type": "code",
   "execution_count": 182,
   "id": "f3dc1df3",
   "metadata": {
    "vscode": {
     "languageId": "plaintext"
    }
   },
   "outputs": [
    {
     "name": "stdout",
     "output_type": "stream",
     "text": [
      "3HAYvsQFvJ\n"
     ]
    }
   ],
   "source": [
    "# update\n",
    "\n",
    "def get_random_string(length):\n",
    "    caracteres = string.ascii_letters + string.digits\n",
    "    return ''.join(random.choices(caracteres, k=length))\n",
    "\n",
    "print(get_random_string(10))\n",
    "\n",
    "def update_entry(key):\n",
    "    \"\"\"\n",
    "    Update all columns related to the entry whose key is key with random values and returns the time needed for updating the entry\n",
    "    \"\"\"\n",
    "    ip_address = get_random_string(15)\n",
    "    county = get_random_string(50)\n",
    "    country_code = get_random_string(2)\n",
    "    database_column_type = get_random_string(5)\n",
    "\n",
    "    gc.collect()\n",
    "    start_time = time.perf_counter()\n",
    "    cursor.execute(\"\"\"\n",
    "        UPDATE bitcoin_addresses\n",
    "        SET ip_address = %s, county = %s, country_code = %s, database_column_type = %s\n",
    "        WHERE bitcoin_address = %s\n",
    "    \"\"\", (ip_address, county, country_code, database_column_type, key))\n",
    "    end_time = time.perf_counter()\n",
    "\n",
    "    return end_time - start_time\n",
    "\n",
    "print(update_entry(get_random_key()))"
   ]
  },
  {
   "cell_type": "code",
   "execution_count": null,
   "id": "ec09815e",
   "metadata": {
    "vscode": {
     "languageId": "plaintext"
    }
   },
   "outputs": [],
   "source": [
    "# insert / create\n",
    "\n",
    "def add_entry():\n",
    "    \"\"\"\n",
    "    Add an entry with default values and a new key and returns the time taken for that operation.\n",
    "    We handle the case where the key was already in the database by calling the function once again.\n",
    "    Eventually the code will return.\n",
    "    \"\"\"\n",
    "\n",
    "    bitcoin_address = get_random_string(33)\n",
    "    account = get_random_string(20)\n",
    "    ip_address = get_random_string(15)\n",
    "    county = get_random_string(50)\n",
    "    country_code = get_random_string(2)\n",
    "    database_column_type = get_random_string(5)\n",
    "\n",
    "    try:\n",
    "        gc.collect()\n",
    "        start_time = time.perf_counter()\n",
    "        cursor.execute(\"\"\"\n",
    "            INSERT INTO bitcoin_addresses\n",
    "            VALUES (%s, %s, %s, %s, %s, %s)\n",
    "        \"\"\", (bitcoin_address, account, ip_address, county, country_code, database_column_type))\n",
    "        end_time = time.perf_counter()\n",
    "        return end_time - start_time\n",
    "    except:\n",
    "        return add_entry()\n",
    "\n",
    "    \n",
    "\n",
    "print(add_entry())"
   ]
  }
 ],
 "metadata": {
  "kernelspec": {
   "display_name": "Python 3 (ipykernel)",
   "language": "python",
   "name": "python3"
  },
  "language_info": {
   "codemirror_mode": {
    "name": "ipython",
    "version": 3
   },
   "file_extension": ".py",
   "mimetype": "text/x-python",
   "name": "python",
   "nbconvert_exporter": "python",
   "pygments_lexer": "ipython3",
   "version": "3.10.16"
  }
 },
 "nbformat": 4,
 "nbformat_minor": 5
}
