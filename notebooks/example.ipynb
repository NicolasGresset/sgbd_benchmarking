{
 "cells": [
  {
   "cell_type": "markdown",
   "id": "d318b787",
   "metadata": {},
   "source": [
    "# Example Jupyter Notebook\n",
    "\n",
    "This notebook is a test to verify that the environment is set up and running correctly.\n",
    "\n",
    "## Post"
   ]
  },
  {
   "cell_type": "code",
   "execution_count": 3,
   "id": "d14dc973",
   "metadata": {},
   "outputs": [
    {
     "name": "stdout",
     "output_type": "stream",
     "text": [
      "hello world\n"
     ]
    }
   ],
   "source": [
    "print(\"hello world\")\n",
    "\n",
    "\n",
    "print(\"hello world\")\n",
    "\n",
    "\n",
    "print(\"hello world\")\n",
    "\n",
    "print(\"hello world\")\n",
    "\n",
    "def upsert_line_and_measure_time(row) -> float :\n",
    "    gc.collect()  # Nettoie la mémoire avant de désactiver le GC\n",
    "    start_time = time.perf_counter()\n",
    "\n",
    "    upsert(row)\n",
    "\n",
    "    end_time = time.perf_counter()\n",
    "    return end_time - start_time\n",
    "\n",
    "def csv_import_and_measure(filename):\n",
    "    latencies = np.array()\n",
    "    with open(filename, newline='') as csvfile:\n",
    "        reader = csv.DictReader(csvfile, delimiter=';') \n",
    "        for row in reader:\n",
    "            latencies.append(upsert_line_and_measure_time(row))\n",
    "\n",
    "    return latencies\n",
    "        "
   ]
  },
  {
   "cell_type": "code",
   "execution_count": null,
   "id": "90732645",
   "metadata": {},
   "outputs": [],
   "source": [
    "# Generate some random data\n",
    "data = np.random.randn(1000)\n",
    "\n",
    "# Create a histogram\n",
    "plt.hist(data, bins=30, alpha=0.7, color='blue')\n",
    "plt.title('Histogram of Random Data')\n",
    "plt.xlabel('Value')\n",
    "plt.ylabel('Frequency')\n",
    "plt.show()"
   ]
  },
  {
   "cell_type": "code",
   "execution_count": null,
   "id": "aeda2e7b",
   "metadata": {},
   "outputs": [],
   "source": [
    "# Create a small DataFrame\n",
    "df = pd.DataFrame({\n",
    "    'A': np.random.rand(10),\n",
    "    'B': np.random.rand(10)\n",
    "})\n",
    "print('Sample DataFrame:')\n",
    "print(df)\n",
    "\n",
    "# Plot the DataFrame\n",
    "df.plot(kind='bar', figsize=(10, 6))\n",
    "plt.title('Bar Plot of Random Data')\n",
    "plt.show()"
   ]
  }
 ],
 "metadata": {
  "kernelspec": {
   "display_name": "Python 3 (ipykernel)",
   "language": "python",
   "name": "python3"
  },
  "language_info": {
   "codemirror_mode": {
    "name": "ipython",
    "version": 3
   },
   "file_extension": ".py",
   "mimetype": "text/x-python",
   "name": "python",
   "nbconvert_exporter": "python",
   "pygments_lexer": "ipython3",
   "version": "3.10.15"
  }
 },
 "nbformat": 4,
 "nbformat_minor": 5
}
